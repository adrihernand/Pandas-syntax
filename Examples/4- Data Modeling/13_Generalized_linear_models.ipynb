{
 "cells": [
  {
   "cell_type": "markdown",
   "metadata": {},
   "source": [
    "# Chapter 12 - Linear Models"
   ]
  },
  {
   "cell_type": "markdown",
   "metadata": {},
   "source": [
    "# 13.2 Logistic Regression"
   ]
  },
  {
   "cell_type": "code",
   "execution_count": 1,
   "metadata": {},
   "outputs": [],
   "source": [
    "import pandas as pd"
   ]
  },
  {
   "cell_type": "code",
   "execution_count": 2,
   "metadata": {},
   "outputs": [
    {
     "data": {
      "text/html": [
       "<div>\n",
       "<style scoped>\n",
       "    .dataframe tbody tr th:only-of-type {\n",
       "        vertical-align: middle;\n",
       "    }\n",
       "\n",
       "    .dataframe tbody tr th {\n",
       "        vertical-align: top;\n",
       "    }\n",
       "\n",
       "    .dataframe thead th {\n",
       "        text-align: right;\n",
       "    }\n",
       "</style>\n",
       "<table border=\"1\" class=\"dataframe\">\n",
       "  <thead>\n",
       "    <tr style=\"text-align: right;\">\n",
       "      <th></th>\n",
       "      <th>Acres</th>\n",
       "      <th>FamilyIncome</th>\n",
       "      <th>FamilyType</th>\n",
       "      <th>NumBedrooms</th>\n",
       "      <th>NumChildren</th>\n",
       "      <th>NumPeople</th>\n",
       "      <th>NumRooms</th>\n",
       "      <th>NumUnits</th>\n",
       "      <th>NumVehicles</th>\n",
       "      <th>NumWorkers</th>\n",
       "      <th>OwnRent</th>\n",
       "      <th>YearBuilt</th>\n",
       "      <th>HouseCosts</th>\n",
       "      <th>ElectricBill</th>\n",
       "      <th>FoodStamp</th>\n",
       "      <th>HeatingFuel</th>\n",
       "      <th>Insurance</th>\n",
       "      <th>Language</th>\n",
       "    </tr>\n",
       "  </thead>\n",
       "  <tbody>\n",
       "    <tr>\n",
       "      <th>0</th>\n",
       "      <td>1-10</td>\n",
       "      <td>150</td>\n",
       "      <td>Married</td>\n",
       "      <td>4</td>\n",
       "      <td>1</td>\n",
       "      <td>3</td>\n",
       "      <td>9</td>\n",
       "      <td>Single detached</td>\n",
       "      <td>1</td>\n",
       "      <td>0</td>\n",
       "      <td>Mortgage</td>\n",
       "      <td>1950-1959</td>\n",
       "      <td>1800</td>\n",
       "      <td>90</td>\n",
       "      <td>No</td>\n",
       "      <td>Gas</td>\n",
       "      <td>2500</td>\n",
       "      <td>English</td>\n",
       "    </tr>\n",
       "    <tr>\n",
       "      <th>1</th>\n",
       "      <td>1-10</td>\n",
       "      <td>180</td>\n",
       "      <td>Female Head</td>\n",
       "      <td>3</td>\n",
       "      <td>2</td>\n",
       "      <td>4</td>\n",
       "      <td>6</td>\n",
       "      <td>Single detached</td>\n",
       "      <td>2</td>\n",
       "      <td>0</td>\n",
       "      <td>Rented</td>\n",
       "      <td>Before 1939</td>\n",
       "      <td>850</td>\n",
       "      <td>90</td>\n",
       "      <td>No</td>\n",
       "      <td>Oil</td>\n",
       "      <td>0</td>\n",
       "      <td>English</td>\n",
       "    </tr>\n",
       "    <tr>\n",
       "      <th>2</th>\n",
       "      <td>1-10</td>\n",
       "      <td>280</td>\n",
       "      <td>Female Head</td>\n",
       "      <td>4</td>\n",
       "      <td>0</td>\n",
       "      <td>2</td>\n",
       "      <td>8</td>\n",
       "      <td>Single detached</td>\n",
       "      <td>3</td>\n",
       "      <td>1</td>\n",
       "      <td>Mortgage</td>\n",
       "      <td>2000-2004</td>\n",
       "      <td>2600</td>\n",
       "      <td>260</td>\n",
       "      <td>No</td>\n",
       "      <td>Oil</td>\n",
       "      <td>6600</td>\n",
       "      <td>Other European</td>\n",
       "    </tr>\n",
       "    <tr>\n",
       "      <th>3</th>\n",
       "      <td>1-10</td>\n",
       "      <td>330</td>\n",
       "      <td>Female Head</td>\n",
       "      <td>2</td>\n",
       "      <td>1</td>\n",
       "      <td>2</td>\n",
       "      <td>4</td>\n",
       "      <td>Single detached</td>\n",
       "      <td>1</td>\n",
       "      <td>0</td>\n",
       "      <td>Rented</td>\n",
       "      <td>1950-1959</td>\n",
       "      <td>1800</td>\n",
       "      <td>140</td>\n",
       "      <td>No</td>\n",
       "      <td>Oil</td>\n",
       "      <td>0</td>\n",
       "      <td>English</td>\n",
       "    </tr>\n",
       "    <tr>\n",
       "      <th>4</th>\n",
       "      <td>1-10</td>\n",
       "      <td>330</td>\n",
       "      <td>Male Head</td>\n",
       "      <td>3</td>\n",
       "      <td>1</td>\n",
       "      <td>2</td>\n",
       "      <td>5</td>\n",
       "      <td>Single attached</td>\n",
       "      <td>1</td>\n",
       "      <td>0</td>\n",
       "      <td>Mortgage</td>\n",
       "      <td>Before 1939</td>\n",
       "      <td>860</td>\n",
       "      <td>150</td>\n",
       "      <td>No</td>\n",
       "      <td>Gas</td>\n",
       "      <td>660</td>\n",
       "      <td>Spanish</td>\n",
       "    </tr>\n",
       "    <tr>\n",
       "      <th>...</th>\n",
       "      <td>...</td>\n",
       "      <td>...</td>\n",
       "      <td>...</td>\n",
       "      <td>...</td>\n",
       "      <td>...</td>\n",
       "      <td>...</td>\n",
       "      <td>...</td>\n",
       "      <td>...</td>\n",
       "      <td>...</td>\n",
       "      <td>...</td>\n",
       "      <td>...</td>\n",
       "      <td>...</td>\n",
       "      <td>...</td>\n",
       "      <td>...</td>\n",
       "      <td>...</td>\n",
       "      <td>...</td>\n",
       "      <td>...</td>\n",
       "      <td>...</td>\n",
       "    </tr>\n",
       "    <tr>\n",
       "      <th>22740</th>\n",
       "      <td>10+</td>\n",
       "      <td>565000</td>\n",
       "      <td>Married</td>\n",
       "      <td>5</td>\n",
       "      <td>3</td>\n",
       "      <td>5</td>\n",
       "      <td>10</td>\n",
       "      <td>Single detached</td>\n",
       "      <td>2</td>\n",
       "      <td>2</td>\n",
       "      <td>Mortgage</td>\n",
       "      <td>1990-1999</td>\n",
       "      <td>1700</td>\n",
       "      <td>370</td>\n",
       "      <td>No</td>\n",
       "      <td>Gas</td>\n",
       "      <td>1000</td>\n",
       "      <td>English</td>\n",
       "    </tr>\n",
       "    <tr>\n",
       "      <th>22741</th>\n",
       "      <td>10+</td>\n",
       "      <td>599000</td>\n",
       "      <td>Married</td>\n",
       "      <td>4</td>\n",
       "      <td>0</td>\n",
       "      <td>2</td>\n",
       "      <td>6</td>\n",
       "      <td>Single detached</td>\n",
       "      <td>2</td>\n",
       "      <td>2</td>\n",
       "      <td>Mortgage</td>\n",
       "      <td>Before 1939</td>\n",
       "      <td>1300</td>\n",
       "      <td>100</td>\n",
       "      <td>No</td>\n",
       "      <td>Gas</td>\n",
       "      <td>3500</td>\n",
       "      <td>English</td>\n",
       "    </tr>\n",
       "    <tr>\n",
       "      <th>22742</th>\n",
       "      <td>10+</td>\n",
       "      <td>611700</td>\n",
       "      <td>Married</td>\n",
       "      <td>4</td>\n",
       "      <td>1</td>\n",
       "      <td>5</td>\n",
       "      <td>9</td>\n",
       "      <td>Single detached</td>\n",
       "      <td>5</td>\n",
       "      <td>3</td>\n",
       "      <td>Mortgage</td>\n",
       "      <td>Before 1939</td>\n",
       "      <td>410</td>\n",
       "      <td>100</td>\n",
       "      <td>No</td>\n",
       "      <td>Oil</td>\n",
       "      <td>1300</td>\n",
       "      <td>Spanish</td>\n",
       "    </tr>\n",
       "    <tr>\n",
       "      <th>22743</th>\n",
       "      <td>10+</td>\n",
       "      <td>621430</td>\n",
       "      <td>Married</td>\n",
       "      <td>3</td>\n",
       "      <td>2</td>\n",
       "      <td>4</td>\n",
       "      <td>11</td>\n",
       "      <td>Single detached</td>\n",
       "      <td>2</td>\n",
       "      <td>3</td>\n",
       "      <td>Mortgage</td>\n",
       "      <td>1970-1979</td>\n",
       "      <td>1600</td>\n",
       "      <td>80</td>\n",
       "      <td>No</td>\n",
       "      <td>Gas</td>\n",
       "      <td>800</td>\n",
       "      <td>Spanish</td>\n",
       "    </tr>\n",
       "    <tr>\n",
       "      <th>22744</th>\n",
       "      <td>10+</td>\n",
       "      <td>751200</td>\n",
       "      <td>Married</td>\n",
       "      <td>4</td>\n",
       "      <td>2</td>\n",
       "      <td>4</td>\n",
       "      <td>10</td>\n",
       "      <td>Single detached</td>\n",
       "      <td>2</td>\n",
       "      <td>2</td>\n",
       "      <td>Mortgage</td>\n",
       "      <td>1940-1949</td>\n",
       "      <td>6500</td>\n",
       "      <td>400</td>\n",
       "      <td>No</td>\n",
       "      <td>Oil</td>\n",
       "      <td>2000</td>\n",
       "      <td>English</td>\n",
       "    </tr>\n",
       "  </tbody>\n",
       "</table>\n",
       "<p>22745 rows × 18 columns</p>\n",
       "</div>"
      ],
      "text/plain": [
       "      Acres  FamilyIncome   FamilyType  NumBedrooms  NumChildren  NumPeople  \\\n",
       "0      1-10           150      Married            4            1          3   \n",
       "1      1-10           180  Female Head            3            2          4   \n",
       "2      1-10           280  Female Head            4            0          2   \n",
       "3      1-10           330  Female Head            2            1          2   \n",
       "4      1-10           330    Male Head            3            1          2   \n",
       "...     ...           ...          ...          ...          ...        ...   \n",
       "22740   10+        565000      Married            5            3          5   \n",
       "22741   10+        599000      Married            4            0          2   \n",
       "22742   10+        611700      Married            4            1          5   \n",
       "22743   10+        621430      Married            3            2          4   \n",
       "22744   10+        751200      Married            4            2          4   \n",
       "\n",
       "       NumRooms         NumUnits  NumVehicles  NumWorkers   OwnRent  \\\n",
       "0             9  Single detached            1           0  Mortgage   \n",
       "1             6  Single detached            2           0    Rented   \n",
       "2             8  Single detached            3           1  Mortgage   \n",
       "3             4  Single detached            1           0    Rented   \n",
       "4             5  Single attached            1           0  Mortgage   \n",
       "...         ...              ...          ...         ...       ...   \n",
       "22740        10  Single detached            2           2  Mortgage   \n",
       "22741         6  Single detached            2           2  Mortgage   \n",
       "22742         9  Single detached            5           3  Mortgage   \n",
       "22743        11  Single detached            2           3  Mortgage   \n",
       "22744        10  Single detached            2           2  Mortgage   \n",
       "\n",
       "         YearBuilt  HouseCosts  ElectricBill FoodStamp HeatingFuel  Insurance  \\\n",
       "0        1950-1959        1800            90        No         Gas       2500   \n",
       "1      Before 1939         850            90        No         Oil          0   \n",
       "2        2000-2004        2600           260        No         Oil       6600   \n",
       "3        1950-1959        1800           140        No         Oil          0   \n",
       "4      Before 1939         860           150        No         Gas        660   \n",
       "...            ...         ...           ...       ...         ...        ...   \n",
       "22740    1990-1999        1700           370        No         Gas       1000   \n",
       "22741  Before 1939        1300           100        No         Gas       3500   \n",
       "22742  Before 1939         410           100        No         Oil       1300   \n",
       "22743    1970-1979        1600            80        No         Gas        800   \n",
       "22744    1940-1949        6500           400        No         Oil       2000   \n",
       "\n",
       "             Language  \n",
       "0             English  \n",
       "1             English  \n",
       "2      Other European  \n",
       "3             English  \n",
       "4             Spanish  \n",
       "...               ...  \n",
       "22740         English  \n",
       "22741         English  \n",
       "22742         Spanish  \n",
       "22743         Spanish  \n",
       "22744         English  \n",
       "\n",
       "[22745 rows x 18 columns]"
      ]
     },
     "execution_count": 2,
     "metadata": {},
     "output_type": "execute_result"
    }
   ],
   "source": [
    "# Let's look at the data from the ACS(American Community Survey) of New York\n",
    "\n",
    "\n",
    "acs = pd.read_csv(\"C:/Users/adri_/Documents/GitHub- Adriana/Pandas for everyone/data/acs_ny.csv\")\n",
    "acs"
   ]
  },
  {
   "cell_type": "code",
   "execution_count": 3,
   "metadata": {},
   "outputs": [
    {
     "data": {
      "text/plain": [
       "Index(['Acres', 'FamilyIncome', 'FamilyType', 'NumBedrooms', 'NumChildren',\n",
       "       'NumPeople', 'NumRooms', 'NumUnits', 'NumVehicles', 'NumWorkers',\n",
       "       'OwnRent', 'YearBuilt', 'HouseCosts', 'ElectricBill', 'FoodStamp',\n",
       "       'HeatingFuel', 'Insurance', 'Language'],\n",
       "      dtype='object')"
      ]
     },
     "execution_count": 3,
     "metadata": {},
     "output_type": "execute_result"
    }
   ],
   "source": [
    "# Let's see all the column variables\n",
    "\n",
    "acs.columns"
   ]
  },
  {
   "cell_type": "code",
   "execution_count": 4,
   "metadata": {},
   "outputs": [
    {
     "data": {
      "text/plain": [
       "0    18294\n",
       "1     4451\n",
       "Name: ge150k_i, dtype: int64"
      ]
     },
     "execution_count": 4,
     "metadata": {},
     "output_type": "execute_result"
    }
   ],
   "source": [
    "# To model this, we first need to create a binary response variable. \n",
    "# we split the FamilyIncome variable into a binary one\n",
    "\n",
    "\n",
    "acs[\"ge150k\"] = pd.cut(acs[\"FamilyIncome\"],[0, 150000, acs[\"FamilyIncome\"].max()],\n",
    "                      labels = [0,1])\n",
    "\n",
    "acs[\"ge150k_i\"] = acs[\"ge150k\"].astype(int)\n",
    "acs[\"ge150k_i\"].value_counts() "
   ]
  },
  {
   "cell_type": "code",
   "execution_count": 5,
   "metadata": {},
   "outputs": [
    {
     "name": "stdout",
     "output_type": "stream",
     "text": [
      "<class 'pandas.core.frame.DataFrame'>\n",
      "RangeIndex: 22745 entries, 0 to 22744\n",
      "Data columns (total 20 columns):\n",
      " #   Column        Non-Null Count  Dtype   \n",
      "---  ------        --------------  -----   \n",
      " 0   Acres         22745 non-null  object  \n",
      " 1   FamilyIncome  22745 non-null  int64   \n",
      " 2   FamilyType    22745 non-null  object  \n",
      " 3   NumBedrooms   22745 non-null  int64   \n",
      " 4   NumChildren   22745 non-null  int64   \n",
      " 5   NumPeople     22745 non-null  int64   \n",
      " 6   NumRooms      22745 non-null  int64   \n",
      " 7   NumUnits      22745 non-null  object  \n",
      " 8   NumVehicles   22745 non-null  int64   \n",
      " 9   NumWorkers    22745 non-null  int64   \n",
      " 10  OwnRent       22745 non-null  object  \n",
      " 11  YearBuilt     22745 non-null  object  \n",
      " 12  HouseCosts    22745 non-null  int64   \n",
      " 13  ElectricBill  22745 non-null  int64   \n",
      " 14  FoodStamp     22745 non-null  object  \n",
      " 15  HeatingFuel   22745 non-null  object  \n",
      " 16  Insurance     22745 non-null  int64   \n",
      " 17  Language      22745 non-null  object  \n",
      " 18  ge150k        22745 non-null  category\n",
      " 19  ge150k_i      22745 non-null  int32   \n",
      "dtypes: category(1), int32(1), int64(10), object(8)\n",
      "memory usage: 3.2+ MB\n"
     ]
    }
   ],
   "source": [
    "acs.info()"
   ]
  },
  {
   "cell_type": "markdown",
   "metadata": {},
   "source": [
    "# 13.2.1 Using statsmodels"
   ]
  },
  {
   "cell_type": "code",
   "execution_count": 6,
   "metadata": {},
   "outputs": [],
   "source": [
    "# to perform logistic regression we can use the \"logit\" function\n",
    "\n",
    "import statsmodels.formula.api as sm "
   ]
  },
  {
   "cell_type": "code",
   "execution_count": 7,
   "metadata": {},
   "outputs": [
    {
     "name": "stdout",
     "output_type": "stream",
     "text": [
      "Optimization terminated successfully.\n",
      "         Current function value: 0.391651\n",
      "         Iterations 7\n"
     ]
    }
   ],
   "source": [
    "# Create the model\n",
    "model = sm.logit(\"ge150k_i ~ HouseCosts + NumWorkers + OwnRent + NumBedrooms + FamilyType\",\n",
    "                data = acs)\n",
    "\n",
    "\n",
    "results = model.fit()\n"
   ]
  },
  {
   "cell_type": "code",
   "execution_count": 8,
   "metadata": {},
   "outputs": [
    {
     "data": {
      "text/html": [
       "<table class=\"simpletable\">\n",
       "<caption>Logit Regression Results</caption>\n",
       "<tr>\n",
       "  <th>Dep. Variable:</th>       <td>ge150k_i</td>     <th>  No. Observations:  </th>  <td> 22745</td> \n",
       "</tr>\n",
       "<tr>\n",
       "  <th>Model:</th>                 <td>Logit</td>      <th>  Df Residuals:      </th>  <td> 22737</td> \n",
       "</tr>\n",
       "<tr>\n",
       "  <th>Method:</th>                 <td>MLE</td>       <th>  Df Model:          </th>  <td>     7</td> \n",
       "</tr>\n",
       "<tr>\n",
       "  <th>Date:</th>            <td>Fri, 14 Aug 2020</td> <th>  Pseudo R-squ.:     </th>  <td>0.2078</td> \n",
       "</tr>\n",
       "<tr>\n",
       "  <th>Time:</th>                <td>11:10:38</td>     <th>  Log-Likelihood:    </th> <td> -8908.1</td>\n",
       "</tr>\n",
       "<tr>\n",
       "  <th>converged:</th>             <td>True</td>       <th>  LL-Null:           </th> <td> -11244.</td>\n",
       "</tr>\n",
       "<tr>\n",
       "  <th>Covariance Type:</th>     <td>nonrobust</td>    <th>  LLR p-value:       </th>  <td> 0.000</td> \n",
       "</tr>\n",
       "</table>\n",
       "<table class=\"simpletable\">\n",
       "<tr>\n",
       "             <td></td>                <th>coef</th>     <th>std err</th>      <th>z</th>      <th>P>|z|</th>  <th>[0.025</th>    <th>0.975]</th>  \n",
       "</tr>\n",
       "<tr>\n",
       "  <th>Intercept</th>               <td>   -5.8081</td> <td>    0.120</td> <td>  -48.456</td> <td> 0.000</td> <td>   -6.043</td> <td>   -5.573</td>\n",
       "</tr>\n",
       "<tr>\n",
       "  <th>OwnRent[T.Outright]</th>     <td>    1.8276</td> <td>    0.208</td> <td>    8.782</td> <td> 0.000</td> <td>    1.420</td> <td>    2.236</td>\n",
       "</tr>\n",
       "<tr>\n",
       "  <th>OwnRent[T.Rented]</th>       <td>   -0.8763</td> <td>    0.101</td> <td>   -8.647</td> <td> 0.000</td> <td>   -1.075</td> <td>   -0.678</td>\n",
       "</tr>\n",
       "<tr>\n",
       "  <th>FamilyType[T.Male Head]</th> <td>    0.2874</td> <td>    0.150</td> <td>    1.913</td> <td> 0.056</td> <td>   -0.007</td> <td>    0.582</td>\n",
       "</tr>\n",
       "<tr>\n",
       "  <th>FamilyType[T.Married]</th>   <td>    1.3877</td> <td>    0.088</td> <td>   15.781</td> <td> 0.000</td> <td>    1.215</td> <td>    1.560</td>\n",
       "</tr>\n",
       "<tr>\n",
       "  <th>HouseCosts</th>              <td>    0.0007</td> <td> 1.72e-05</td> <td>   42.453</td> <td> 0.000</td> <td>    0.001</td> <td>    0.001</td>\n",
       "</tr>\n",
       "<tr>\n",
       "  <th>NumWorkers</th>              <td>    0.5873</td> <td>    0.026</td> <td>   22.393</td> <td> 0.000</td> <td>    0.536</td> <td>    0.639</td>\n",
       "</tr>\n",
       "<tr>\n",
       "  <th>NumBedrooms</th>             <td>    0.2365</td> <td>    0.017</td> <td>   13.985</td> <td> 0.000</td> <td>    0.203</td> <td>    0.270</td>\n",
       "</tr>\n",
       "</table>"
      ],
      "text/plain": [
       "<class 'statsmodels.iolib.summary.Summary'>\n",
       "\"\"\"\n",
       "                           Logit Regression Results                           \n",
       "==============================================================================\n",
       "Dep. Variable:               ge150k_i   No. Observations:                22745\n",
       "Model:                          Logit   Df Residuals:                    22737\n",
       "Method:                           MLE   Df Model:                            7\n",
       "Date:                Fri, 14 Aug 2020   Pseudo R-squ.:                  0.2078\n",
       "Time:                        11:10:38   Log-Likelihood:                -8908.1\n",
       "converged:                       True   LL-Null:                       -11244.\n",
       "Covariance Type:            nonrobust   LLR p-value:                     0.000\n",
       "===========================================================================================\n",
       "                              coef    std err          z      P>|z|      [0.025      0.975]\n",
       "-------------------------------------------------------------------------------------------\n",
       "Intercept                  -5.8081      0.120    -48.456      0.000      -6.043      -5.573\n",
       "OwnRent[T.Outright]         1.8276      0.208      8.782      0.000       1.420       2.236\n",
       "OwnRent[T.Rented]          -0.8763      0.101     -8.647      0.000      -1.075      -0.678\n",
       "FamilyType[T.Male Head]     0.2874      0.150      1.913      0.056      -0.007       0.582\n",
       "FamilyType[T.Married]       1.3877      0.088     15.781      0.000       1.215       1.560\n",
       "HouseCosts                  0.0007   1.72e-05     42.453      0.000       0.001       0.001\n",
       "NumWorkers                  0.5873      0.026     22.393      0.000       0.536       0.639\n",
       "NumBedrooms                 0.2365      0.017     13.985      0.000       0.203       0.270\n",
       "===========================================================================================\n",
       "\"\"\""
      ]
     },
     "execution_count": 8,
     "metadata": {},
     "output_type": "execute_result"
    }
   ],
   "source": [
    "# See logistic regression results\n",
    "results. summary()\n"
   ]
  },
  {
   "cell_type": "code",
   "execution_count": 9,
   "metadata": {},
   "outputs": [
    {
     "data": {
      "text/plain": [
       "Intercept                  0.003003\n",
       "OwnRent[T.Outright]        6.219147\n",
       "OwnRent[T.Rented]          0.416310\n",
       "FamilyType[T.Male Head]    1.332901\n",
       "FamilyType[T.Married]      4.005636\n",
       "HouseCosts                 1.000731\n",
       "NumWorkers                 1.799117\n",
       "NumBedrooms                1.266852\n",
       "dtype: float64"
      ]
     },
     "execution_count": 9,
     "metadata": {},
     "output_type": "execute_result"
    }
   ],
   "source": [
    "# to interpret the results we will exponentiate them\n",
    "import numpy as np\n",
    "\n",
    "\n",
    "odds_ratios = np.exp(results.params)\n",
    "odds_ratios\n"
   ]
  },
  {
   "cell_type": "markdown",
   "metadata": {},
   "source": [
    "# 13.2.2 Using sklearn"
   ]
  },
  {
   "cell_type": "code",
   "execution_count": 10,
   "metadata": {},
   "outputs": [],
   "source": [
    "# We need to create dummy variables\n",
    "\n",
    "predictors = pd.get_dummies(acs[[\"HouseCosts\",\"NumWorkers\", \"OwnRent\", \"NumBedrooms\",\"FamilyType\"]],\n",
    "                           drop_first = True)\n"
   ]
  },
  {
   "cell_type": "code",
   "execution_count": 11,
   "metadata": {},
   "outputs": [],
   "source": [
    "# Create model\n",
    "from sklearn import linear_model\n",
    "\n",
    "lr = linear_model.LogisticRegression()"
   ]
  },
  {
   "cell_type": "code",
   "execution_count": 12,
   "metadata": {
    "scrolled": true
   },
   "outputs": [
    {
     "name": "stderr",
     "output_type": "stream",
     "text": [
      "C:\\Users\\adri_\\Anaconda3\\lib\\site-packages\\sklearn\\linear_model\\_logistic.py:940: ConvergenceWarning: lbfgs failed to converge (status=1):\n",
      "STOP: TOTAL NO. of ITERATIONS REACHED LIMIT.\n",
      "\n",
      "Increase the number of iterations (max_iter) or scale the data as shown in:\n",
      "    https://scikit-learn.org/stable/modules/preprocessing.html\n",
      "Please also refer to the documentation for alternative solver options:\n",
      "    https://scikit-learn.org/stable/modules/linear_model.html#logistic-regression\n",
      "  extra_warning_msg=_LOGISTIC_SOLVER_CONVERGENCE_MSG)\n"
     ]
    }
   ],
   "source": [
    "# Fit the model\n",
    "\n",
    "results = lr.fit(X = predictors, y = acs[\"ge150k_i\"])"
   ]
  },
  {
   "cell_type": "code",
   "execution_count": 13,
   "metadata": {},
   "outputs": [
    {
     "name": "stdout",
     "output_type": "stream",
     "text": [
      "[[ 5.84632930e-04  7.30468510e-01  2.83562884e-01  7.06690063e-02\n",
      "  -2.12153835e+00 -1.03220120e+00  2.53193845e-01]]\n",
      "[-4.8312]\n"
     ]
    }
   ],
   "source": [
    "# Show coeffcients and intercept\n",
    "\n",
    "print(results.coef_)\n",
    "print(results.intercept_)"
   ]
  },
  {
   "cell_type": "code",
   "execution_count": 14,
   "metadata": {},
   "outputs": [],
   "source": [
    "# Printing results in a more atractive format\n",
    "\n",
    "values = np.append(results.intercept_,results.coef_)\n",
    "\n",
    "# Get the names of the values\n",
    "names = np.append(\"intercept\", predictors.columns)"
   ]
  },
  {
   "cell_type": "code",
   "execution_count": 15,
   "metadata": {},
   "outputs": [
    {
     "data": {
      "text/html": [
       "<div>\n",
       "<style scoped>\n",
       "    .dataframe tbody tr th:only-of-type {\n",
       "        vertical-align: middle;\n",
       "    }\n",
       "\n",
       "    .dataframe tbody tr th {\n",
       "        vertical-align: top;\n",
       "    }\n",
       "\n",
       "    .dataframe thead th {\n",
       "        text-align: right;\n",
       "    }\n",
       "</style>\n",
       "<table border=\"1\" class=\"dataframe\">\n",
       "  <thead>\n",
       "    <tr style=\"text-align: right;\">\n",
       "      <th></th>\n",
       "      <th>coef</th>\n",
       "    </tr>\n",
       "  </thead>\n",
       "  <tbody>\n",
       "    <tr>\n",
       "      <th>intercept</th>\n",
       "      <td>-4.831200</td>\n",
       "    </tr>\n",
       "    <tr>\n",
       "      <th>HouseCosts</th>\n",
       "      <td>0.000585</td>\n",
       "    </tr>\n",
       "    <tr>\n",
       "      <th>NumWorkers</th>\n",
       "      <td>0.730469</td>\n",
       "    </tr>\n",
       "    <tr>\n",
       "      <th>NumBedrooms</th>\n",
       "      <td>0.283563</td>\n",
       "    </tr>\n",
       "    <tr>\n",
       "      <th>OwnRent_Outright</th>\n",
       "      <td>0.070669</td>\n",
       "    </tr>\n",
       "    <tr>\n",
       "      <th>OwnRent_Rented</th>\n",
       "      <td>-2.121538</td>\n",
       "    </tr>\n",
       "    <tr>\n",
       "      <th>FamilyType_Male Head</th>\n",
       "      <td>-1.032201</td>\n",
       "    </tr>\n",
       "    <tr>\n",
       "      <th>FamilyType_Married</th>\n",
       "      <td>0.253194</td>\n",
       "    </tr>\n",
       "  </tbody>\n",
       "</table>\n",
       "</div>"
      ],
      "text/plain": [
       "                          coef\n",
       "intercept            -4.831200\n",
       "HouseCosts            0.000585\n",
       "NumWorkers            0.730469\n",
       "NumBedrooms           0.283563\n",
       "OwnRent_Outright      0.070669\n",
       "OwnRent_Rented       -2.121538\n",
       "FamilyType_Male Head -1.032201\n",
       "FamilyType_Married    0.253194"
      ]
     },
     "execution_count": 15,
     "metadata": {},
     "output_type": "execute_result"
    }
   ],
   "source": [
    "# Put everything in a labelede dataframe\n",
    "\n",
    "results = pd.DataFrame(values, index = names, columns = [\"coef\"])\n",
    "results"
   ]
  },
  {
   "cell_type": "code",
   "execution_count": 16,
   "metadata": {
    "scrolled": true
   },
   "outputs": [
    {
     "data": {
      "text/html": [
       "<div>\n",
       "<style scoped>\n",
       "    .dataframe tbody tr th:only-of-type {\n",
       "        vertical-align: middle;\n",
       "    }\n",
       "\n",
       "    .dataframe tbody tr th {\n",
       "        vertical-align: top;\n",
       "    }\n",
       "\n",
       "    .dataframe thead th {\n",
       "        text-align: right;\n",
       "    }\n",
       "</style>\n",
       "<table border=\"1\" class=\"dataframe\">\n",
       "  <thead>\n",
       "    <tr style=\"text-align: right;\">\n",
       "      <th></th>\n",
       "      <th>coef</th>\n",
       "      <th>or</th>\n",
       "    </tr>\n",
       "  </thead>\n",
       "  <tbody>\n",
       "    <tr>\n",
       "      <th>intercept</th>\n",
       "      <td>-4.831200</td>\n",
       "      <td>0.007977</td>\n",
       "    </tr>\n",
       "    <tr>\n",
       "      <th>HouseCosts</th>\n",
       "      <td>0.000585</td>\n",
       "      <td>1.000585</td>\n",
       "    </tr>\n",
       "    <tr>\n",
       "      <th>NumWorkers</th>\n",
       "      <td>0.730469</td>\n",
       "      <td>2.076053</td>\n",
       "    </tr>\n",
       "    <tr>\n",
       "      <th>NumBedrooms</th>\n",
       "      <td>0.283563</td>\n",
       "      <td>1.327852</td>\n",
       "    </tr>\n",
       "    <tr>\n",
       "      <th>OwnRent_Outright</th>\n",
       "      <td>0.070669</td>\n",
       "      <td>1.073226</td>\n",
       "    </tr>\n",
       "    <tr>\n",
       "      <th>OwnRent_Rented</th>\n",
       "      <td>-2.121538</td>\n",
       "      <td>0.119847</td>\n",
       "    </tr>\n",
       "    <tr>\n",
       "      <th>FamilyType_Male Head</th>\n",
       "      <td>-1.032201</td>\n",
       "      <td>0.356222</td>\n",
       "    </tr>\n",
       "    <tr>\n",
       "      <th>FamilyType_Married</th>\n",
       "      <td>0.253194</td>\n",
       "      <td>1.288133</td>\n",
       "    </tr>\n",
       "  </tbody>\n",
       "</table>\n",
       "</div>"
      ],
      "text/plain": [
       "                          coef        or\n",
       "intercept            -4.831200  0.007977\n",
       "HouseCosts            0.000585  1.000585\n",
       "NumWorkers            0.730469  2.076053\n",
       "NumBedrooms           0.283563  1.327852\n",
       "OwnRent_Outright      0.070669  1.073226\n",
       "OwnRent_Rented       -2.121538  0.119847\n",
       "FamilyType_Male Head -1.032201  0.356222\n",
       "FamilyType_Married    0.253194  1.288133"
      ]
     },
     "execution_count": 16,
     "metadata": {},
     "output_type": "execute_result"
    }
   ],
   "source": [
    "# To interpret the coefficients we still need to exponentiate the values\n",
    "\n",
    "results[\"or\"] = np.exp(results[\"coef\"])\n",
    "results"
   ]
  },
  {
   "cell_type": "markdown",
   "metadata": {},
   "source": [
    "# 13.3 Poisson Regression"
   ]
  },
  {
   "cell_type": "markdown",
   "metadata": {},
   "source": [
    "# 13.3.1 Using statsmodels"
   ]
  },
  {
   "cell_type": "code",
   "execution_count": 17,
   "metadata": {},
   "outputs": [
    {
     "name": "stdout",
     "output_type": "stream",
     "text": [
      "Optimization terminated successfully.\n",
      "         Current function value: nan\n",
      "         Iterations 1\n"
     ]
    },
    {
     "name": "stderr",
     "output_type": "stream",
     "text": [
      "C:\\Users\\adri_\\Anaconda3\\lib\\site-packages\\statsmodels\\discrete\\discrete_model.py:1277: RuntimeWarning: overflow encountered in exp\n",
      "  L = np.exp(np.dot(X,params) + exposure + offset)\n",
      "C:\\Users\\adri_\\Anaconda3\\lib\\site-packages\\statsmodels\\discrete\\discrete_model.py:1278: RuntimeWarning: overflow encountered in multiply\n",
      "  return -np.dot(L*X.T, X)\n",
      "C:\\Users\\adri_\\Anaconda3\\lib\\site-packages\\statsmodels\\discrete\\discrete_model.py:1278: RuntimeWarning: invalid value encountered in multiply\n",
      "  return -np.dot(L*X.T, X)\n",
      "C:\\Users\\adri_\\Anaconda3\\lib\\site-packages\\statsmodels\\discrete\\discrete_model.py:1187: RuntimeWarning: overflow encountered in exp\n",
      "  L = np.exp(np.dot(X,params) + offset + exposure)\n",
      "C:\\Users\\adri_\\Anaconda3\\lib\\site-packages\\scipy\\stats\\_discrete_distns.py:598: RuntimeWarning: invalid value encountered in greater_equal\n",
      "  return mu >= 0\n",
      "C:\\Users\\adri_\\Anaconda3\\lib\\site-packages\\statsmodels\\base\\optimizer.py:300: RuntimeWarning: invalid value encountered in greater\n",
      "  oldparams) > tol)):\n"
     ]
    }
   ],
   "source": [
    " # Create the model\n",
    "model = sm.poisson(\"NumChildren ~ FamilyIncome + FamilyType + OwnRent \",\n",
    "                data = acs)\n",
    "\n",
    "\n",
    "results = model.fit()"
   ]
  },
  {
   "cell_type": "code",
   "execution_count": 18,
   "metadata": {},
   "outputs": [
    {
     "name": "stderr",
     "output_type": "stream",
     "text": [
      "C:\\Users\\adri_\\Anaconda3\\lib\\site-packages\\scipy\\stats\\_distn_infrastructure.py:903: RuntimeWarning: invalid value encountered in greater\n",
      "  return (a < x) & (x < b)\n",
      "C:\\Users\\adri_\\Anaconda3\\lib\\site-packages\\scipy\\stats\\_distn_infrastructure.py:903: RuntimeWarning: invalid value encountered in less\n",
      "  return (a < x) & (x < b)\n",
      "C:\\Users\\adri_\\Anaconda3\\lib\\site-packages\\scipy\\stats\\_distn_infrastructure.py:1912: RuntimeWarning: invalid value encountered in less_equal\n",
      "  cond2 = cond0 & (x <= _a)\n"
     ]
    },
    {
     "data": {
      "text/html": [
       "<table class=\"simpletable\">\n",
       "<caption>Poisson Regression Results</caption>\n",
       "<tr>\n",
       "  <th>Dep. Variable:</th>      <td>NumChildren</td>   <th>  No. Observations:  </th>  <td> 22745</td> \n",
       "</tr>\n",
       "<tr>\n",
       "  <th>Model:</th>                <td>Poisson</td>     <th>  Df Residuals:      </th>  <td> 22739</td> \n",
       "</tr>\n",
       "<tr>\n",
       "  <th>Method:</th>                 <td>MLE</td>       <th>  Df Model:          </th>  <td>     5</td> \n",
       "</tr>\n",
       "<tr>\n",
       "  <th>Date:</th>            <td>Fri, 14 Aug 2020</td> <th>  Pseudo R-squ.:     </th>  <td>   nan</td> \n",
       "</tr>\n",
       "<tr>\n",
       "  <th>Time:</th>                <td>11:10:38</td>     <th>  Log-Likelihood:    </th> <td>     nan</td>\n",
       "</tr>\n",
       "<tr>\n",
       "  <th>converged:</th>             <td>True</td>       <th>  LL-Null:           </th> <td> -30977.</td>\n",
       "</tr>\n",
       "<tr>\n",
       "  <th>Covariance Type:</th>     <td>nonrobust</td>    <th>  LLR p-value:       </th>  <td>   nan</td> \n",
       "</tr>\n",
       "</table>\n",
       "<table class=\"simpletable\">\n",
       "<tr>\n",
       "             <td></td>                <th>coef</th>     <th>std err</th>      <th>z</th>      <th>P>|z|</th>  <th>[0.025</th>    <th>0.975]</th>  \n",
       "</tr>\n",
       "<tr>\n",
       "  <th>Intercept</th>               <td>       nan</td> <td>      nan</td> <td>      nan</td> <td>   nan</td> <td>      nan</td> <td>      nan</td>\n",
       "</tr>\n",
       "<tr>\n",
       "  <th>FamilyType[T.Male Head]</th> <td>       nan</td> <td>      nan</td> <td>      nan</td> <td>   nan</td> <td>      nan</td> <td>      nan</td>\n",
       "</tr>\n",
       "<tr>\n",
       "  <th>FamilyType[T.Married]</th>   <td>       nan</td> <td>      nan</td> <td>      nan</td> <td>   nan</td> <td>      nan</td> <td>      nan</td>\n",
       "</tr>\n",
       "<tr>\n",
       "  <th>OwnRent[T.Outright]</th>     <td>       nan</td> <td>      nan</td> <td>      nan</td> <td>   nan</td> <td>      nan</td> <td>      nan</td>\n",
       "</tr>\n",
       "<tr>\n",
       "  <th>OwnRent[T.Rented]</th>       <td>       nan</td> <td>      nan</td> <td>      nan</td> <td>   nan</td> <td>      nan</td> <td>      nan</td>\n",
       "</tr>\n",
       "<tr>\n",
       "  <th>FamilyIncome</th>            <td>       nan</td> <td>      nan</td> <td>      nan</td> <td>   nan</td> <td>      nan</td> <td>      nan</td>\n",
       "</tr>\n",
       "</table>"
      ],
      "text/plain": [
       "<class 'statsmodels.iolib.summary.Summary'>\n",
       "\"\"\"\n",
       "                          Poisson Regression Results                          \n",
       "==============================================================================\n",
       "Dep. Variable:            NumChildren   No. Observations:                22745\n",
       "Model:                        Poisson   Df Residuals:                    22739\n",
       "Method:                           MLE   Df Model:                            5\n",
       "Date:                Fri, 14 Aug 2020   Pseudo R-squ.:                     nan\n",
       "Time:                        11:10:38   Log-Likelihood:                    nan\n",
       "converged:                       True   LL-Null:                       -30977.\n",
       "Covariance Type:            nonrobust   LLR p-value:                       nan\n",
       "===========================================================================================\n",
       "                              coef    std err          z      P>|z|      [0.025      0.975]\n",
       "-------------------------------------------------------------------------------------------\n",
       "Intercept                      nan        nan        nan        nan         nan         nan\n",
       "FamilyType[T.Male Head]        nan        nan        nan        nan         nan         nan\n",
       "FamilyType[T.Married]          nan        nan        nan        nan         nan         nan\n",
       "OwnRent[T.Outright]            nan        nan        nan        nan         nan         nan\n",
       "OwnRent[T.Rented]              nan        nan        nan        nan         nan         nan\n",
       "FamilyIncome                   nan        nan        nan        nan         nan         nan\n",
       "===========================================================================================\n",
       "\"\"\""
      ]
     },
     "execution_count": 18,
     "metadata": {},
     "output_type": "execute_result"
    }
   ],
   "source": [
    "#see results\n",
    "\n",
    "results.summary()"
   ]
  }
 ],
 "metadata": {
  "kernelspec": {
   "display_name": "Python 3",
   "language": "python",
   "name": "python3"
  },
  "language_info": {
   "codemirror_mode": {
    "name": "ipython",
    "version": 3
   },
   "file_extension": ".py",
   "mimetype": "text/x-python",
   "name": "python",
   "nbconvert_exporter": "python",
   "pygments_lexer": "ipython3",
   "version": "3.7.7"
  }
 },
 "nbformat": 4,
 "nbformat_minor": 4
}
