{
 "cells": [
  {
   "cell_type": "markdown",
   "metadata": {},
   "source": [
    "# Chapter 14 - Model diagnostics"
   ]
  },
  {
   "cell_type": "code",
   "execution_count": 1,
   "metadata": {},
   "outputs": [],
   "source": [
    "import pandas as pd\n"
   ]
  },
  {
   "cell_type": "markdown",
   "metadata": {},
   "source": [
    "# 14.2 Residuals"
   ]
  },
  {
   "cell_type": "code",
   "execution_count": 2,
   "metadata": {},
   "outputs": [
    {
     "data": {
      "text/html": [
       "<div>\n",
       "<style scoped>\n",
       "    .dataframe tbody tr th:only-of-type {\n",
       "        vertical-align: middle;\n",
       "    }\n",
       "\n",
       "    .dataframe tbody tr th {\n",
       "        vertical-align: top;\n",
       "    }\n",
       "\n",
       "    .dataframe thead th {\n",
       "        text-align: right;\n",
       "    }\n",
       "</style>\n",
       "<table border=\"1\" class=\"dataframe\">\n",
       "  <thead>\n",
       "    <tr style=\"text-align: right;\">\n",
       "      <th></th>\n",
       "      <th>neighborhood</th>\n",
       "      <th>type</th>\n",
       "      <th>units</th>\n",
       "      <th>year_built</th>\n",
       "      <th>sq_ft</th>\n",
       "      <th>income</th>\n",
       "      <th>income_per_sq_ft</th>\n",
       "      <th>expense</th>\n",
       "      <th>expense_per_sq_ft</th>\n",
       "      <th>net_income</th>\n",
       "      <th>value</th>\n",
       "      <th>value_per_sq_ft</th>\n",
       "      <th>boro</th>\n",
       "    </tr>\n",
       "  </thead>\n",
       "  <tbody>\n",
       "    <tr>\n",
       "      <th>0</th>\n",
       "      <td>FINANCIAL</td>\n",
       "      <td>R9-CONDOMINIUM</td>\n",
       "      <td>42</td>\n",
       "      <td>1920.0</td>\n",
       "      <td>36500</td>\n",
       "      <td>1332615</td>\n",
       "      <td>36.51</td>\n",
       "      <td>342005</td>\n",
       "      <td>9.37</td>\n",
       "      <td>990610</td>\n",
       "      <td>7300000</td>\n",
       "      <td>200.00</td>\n",
       "      <td>Manhattan</td>\n",
       "    </tr>\n",
       "    <tr>\n",
       "      <th>1</th>\n",
       "      <td>FINANCIAL</td>\n",
       "      <td>R4-CONDOMINIUM</td>\n",
       "      <td>78</td>\n",
       "      <td>1985.0</td>\n",
       "      <td>126420</td>\n",
       "      <td>6633257</td>\n",
       "      <td>52.47</td>\n",
       "      <td>1762295</td>\n",
       "      <td>13.94</td>\n",
       "      <td>4870962</td>\n",
       "      <td>30690000</td>\n",
       "      <td>242.76</td>\n",
       "      <td>Manhattan</td>\n",
       "    </tr>\n",
       "    <tr>\n",
       "      <th>2</th>\n",
       "      <td>FINANCIAL</td>\n",
       "      <td>RR-CONDOMINIUM</td>\n",
       "      <td>500</td>\n",
       "      <td>NaN</td>\n",
       "      <td>554174</td>\n",
       "      <td>17310000</td>\n",
       "      <td>31.24</td>\n",
       "      <td>3543000</td>\n",
       "      <td>6.39</td>\n",
       "      <td>13767000</td>\n",
       "      <td>90970000</td>\n",
       "      <td>164.15</td>\n",
       "      <td>Manhattan</td>\n",
       "    </tr>\n",
       "    <tr>\n",
       "      <th>3</th>\n",
       "      <td>FINANCIAL</td>\n",
       "      <td>R4-CONDOMINIUM</td>\n",
       "      <td>282</td>\n",
       "      <td>1930.0</td>\n",
       "      <td>249076</td>\n",
       "      <td>11776313</td>\n",
       "      <td>47.28</td>\n",
       "      <td>2784670</td>\n",
       "      <td>11.18</td>\n",
       "      <td>8991643</td>\n",
       "      <td>67556006</td>\n",
       "      <td>271.23</td>\n",
       "      <td>Manhattan</td>\n",
       "    </tr>\n",
       "    <tr>\n",
       "      <th>4</th>\n",
       "      <td>TRIBECA</td>\n",
       "      <td>R4-CONDOMINIUM</td>\n",
       "      <td>239</td>\n",
       "      <td>1985.0</td>\n",
       "      <td>219495</td>\n",
       "      <td>10004582</td>\n",
       "      <td>45.58</td>\n",
       "      <td>2783197</td>\n",
       "      <td>12.68</td>\n",
       "      <td>7221385</td>\n",
       "      <td>54320996</td>\n",
       "      <td>247.48</td>\n",
       "      <td>Manhattan</td>\n",
       "    </tr>\n",
       "    <tr>\n",
       "      <th>...</th>\n",
       "      <td>...</td>\n",
       "      <td>...</td>\n",
       "      <td>...</td>\n",
       "      <td>...</td>\n",
       "      <td>...</td>\n",
       "      <td>...</td>\n",
       "      <td>...</td>\n",
       "      <td>...</td>\n",
       "      <td>...</td>\n",
       "      <td>...</td>\n",
       "      <td>...</td>\n",
       "      <td>...</td>\n",
       "      <td>...</td>\n",
       "    </tr>\n",
       "    <tr>\n",
       "      <th>2621</th>\n",
       "      <td>ROSEBANK</td>\n",
       "      <td>R4-CONDOMINIUM</td>\n",
       "      <td>52</td>\n",
       "      <td>NaN</td>\n",
       "      <td>62391</td>\n",
       "      <td>831672</td>\n",
       "      <td>13.33</td>\n",
       "      <td>326305</td>\n",
       "      <td>5.23</td>\n",
       "      <td>505367</td>\n",
       "      <td>3354003</td>\n",
       "      <td>53.76</td>\n",
       "      <td>Staten Island</td>\n",
       "    </tr>\n",
       "    <tr>\n",
       "      <th>2622</th>\n",
       "      <td>ARROCHAR-SHORE ACRES</td>\n",
       "      <td>R4-CONDOMINIUM</td>\n",
       "      <td>102</td>\n",
       "      <td>1987.0</td>\n",
       "      <td>90618</td>\n",
       "      <td>1274089</td>\n",
       "      <td>14.06</td>\n",
       "      <td>637045</td>\n",
       "      <td>7.03</td>\n",
       "      <td>637044</td>\n",
       "      <td>5233000</td>\n",
       "      <td>57.75</td>\n",
       "      <td>Staten Island</td>\n",
       "    </tr>\n",
       "    <tr>\n",
       "      <th>2623</th>\n",
       "      <td>GRANT CITY</td>\n",
       "      <td>R4-CONDOMINIUM</td>\n",
       "      <td>100</td>\n",
       "      <td>1986.0</td>\n",
       "      <td>78903</td>\n",
       "      <td>1321625</td>\n",
       "      <td>16.75</td>\n",
       "      <td>673832</td>\n",
       "      <td>8.54</td>\n",
       "      <td>647793</td>\n",
       "      <td>4687000</td>\n",
       "      <td>59.40</td>\n",
       "      <td>Staten Island</td>\n",
       "    </tr>\n",
       "    <tr>\n",
       "      <th>2624</th>\n",
       "      <td>GRANT CITY</td>\n",
       "      <td>R4-CONDOMINIUM</td>\n",
       "      <td>159</td>\n",
       "      <td>1961.0</td>\n",
       "      <td>166712</td>\n",
       "      <td>2343971</td>\n",
       "      <td>14.06</td>\n",
       "      <td>1171985</td>\n",
       "      <td>7.03</td>\n",
       "      <td>1171986</td>\n",
       "      <td>5967531</td>\n",
       "      <td>35.80</td>\n",
       "      <td>Staten Island</td>\n",
       "    </tr>\n",
       "    <tr>\n",
       "      <th>2625</th>\n",
       "      <td>GREAT KILLS</td>\n",
       "      <td>R4-CONDOMINIUM</td>\n",
       "      <td>67</td>\n",
       "      <td>1965.0</td>\n",
       "      <td>108864</td>\n",
       "      <td>1298748</td>\n",
       "      <td>11.93</td>\n",
       "      <td>722857</td>\n",
       "      <td>6.64</td>\n",
       "      <td>575891</td>\n",
       "      <td>3673011</td>\n",
       "      <td>33.74</td>\n",
       "      <td>Staten Island</td>\n",
       "    </tr>\n",
       "  </tbody>\n",
       "</table>\n",
       "<p>2626 rows × 13 columns</p>\n",
       "</div>"
      ],
      "text/plain": [
       "              neighborhood            type  units  year_built   sq_ft  \\\n",
       "0                FINANCIAL  R9-CONDOMINIUM     42      1920.0   36500   \n",
       "1                FINANCIAL  R4-CONDOMINIUM     78      1985.0  126420   \n",
       "2                FINANCIAL  RR-CONDOMINIUM    500         NaN  554174   \n",
       "3                FINANCIAL  R4-CONDOMINIUM    282      1930.0  249076   \n",
       "4                  TRIBECA  R4-CONDOMINIUM    239      1985.0  219495   \n",
       "...                    ...             ...    ...         ...     ...   \n",
       "2621              ROSEBANK  R4-CONDOMINIUM     52         NaN   62391   \n",
       "2622  ARROCHAR-SHORE ACRES  R4-CONDOMINIUM    102      1987.0   90618   \n",
       "2623            GRANT CITY  R4-CONDOMINIUM    100      1986.0   78903   \n",
       "2624            GRANT CITY  R4-CONDOMINIUM    159      1961.0  166712   \n",
       "2625           GREAT KILLS  R4-CONDOMINIUM     67      1965.0  108864   \n",
       "\n",
       "        income  income_per_sq_ft  expense  expense_per_sq_ft  net_income  \\\n",
       "0      1332615             36.51   342005               9.37      990610   \n",
       "1      6633257             52.47  1762295              13.94     4870962   \n",
       "2     17310000             31.24  3543000               6.39    13767000   \n",
       "3     11776313             47.28  2784670              11.18     8991643   \n",
       "4     10004582             45.58  2783197              12.68     7221385   \n",
       "...        ...               ...      ...                ...         ...   \n",
       "2621    831672             13.33   326305               5.23      505367   \n",
       "2622   1274089             14.06   637045               7.03      637044   \n",
       "2623   1321625             16.75   673832               8.54      647793   \n",
       "2624   2343971             14.06  1171985               7.03     1171986   \n",
       "2625   1298748             11.93   722857               6.64      575891   \n",
       "\n",
       "         value  value_per_sq_ft           boro  \n",
       "0      7300000           200.00      Manhattan  \n",
       "1     30690000           242.76      Manhattan  \n",
       "2     90970000           164.15      Manhattan  \n",
       "3     67556006           271.23      Manhattan  \n",
       "4     54320996           247.48      Manhattan  \n",
       "...        ...              ...            ...  \n",
       "2621   3354003            53.76  Staten Island  \n",
       "2622   5233000            57.75  Staten Island  \n",
       "2623   4687000            59.40  Staten Island  \n",
       "2624   5967531            35.80  Staten Island  \n",
       "2625   3673011            33.74  Staten Island  \n",
       "\n",
       "[2626 rows x 13 columns]"
      ]
     },
     "execution_count": 2,
     "metadata": {},
     "output_type": "execute_result"
    }
   ],
   "source": [
    "# let's import a dataset\n",
    "\n",
    "housing = pd.read_csv(\"C:/Users/adri_/Documents/GitHub- Adriana/Pandas for everyone/data/housing_renamed.csv\")\n",
    "housing"
   ]
  },
  {
   "cell_type": "code",
   "execution_count": 3,
   "metadata": {},
   "outputs": [],
   "source": [
    "# We'll begin with a multiple linear regression model with three covariates\n",
    "\n",
    "import statsmodels\n",
    "import statsmodels.api as sm\n",
    "import statsmodels.formula.api as sm"
   ]
  },
  {
   "cell_type": "code",
   "execution_count": 4,
   "metadata": {},
   "outputs": [
    {
     "data": {
      "text/html": [
       "<table class=\"simpletable\">\n",
       "<caption>Generalized Linear Model Regression Results</caption>\n",
       "<tr>\n",
       "  <th>Dep. Variable:</th>    <td>value_per_sq_ft</td> <th>  No. Observations:  </th>   <td>  2626</td>  \n",
       "</tr>\n",
       "<tr>\n",
       "  <th>Model:</th>                  <td>GLM</td>       <th>  Df Residuals:      </th>   <td>  2619</td>  \n",
       "</tr>\n",
       "<tr>\n",
       "  <th>Model Family:</th>        <td>Gaussian</td>     <th>  Df Model:          </th>   <td>     6</td>  \n",
       "</tr>\n",
       "<tr>\n",
       "  <th>Link Function:</th>       <td>identity</td>     <th>  Scale:             </th>  <td>  1879.5</td> \n",
       "</tr>\n",
       "<tr>\n",
       "  <th>Method:</th>                <td>IRLS</td>       <th>  Log-Likelihood:    </th>  <td> -13621.</td> \n",
       "</tr>\n",
       "<tr>\n",
       "  <th>Date:</th>            <td>Fri, 14 Aug 2020</td> <th>  Deviance:          </th> <td>4.9224e+06</td>\n",
       "</tr>\n",
       "<tr>\n",
       "  <th>Time:</th>                <td>15:41:02</td>     <th>  Pearson chi2:      </th>  <td>4.92e+06</td> \n",
       "</tr>\n",
       "<tr>\n",
       "  <th>No. Iterations:</th>          <td>3</td>        <th>                     </th>      <td> </td>    \n",
       "</tr>\n",
       "<tr>\n",
       "  <th>Covariance Type:</th>     <td>nonrobust</td>    <th>                     </th>      <td> </td>    \n",
       "</tr>\n",
       "</table>\n",
       "<table class=\"simpletable\">\n",
       "<tr>\n",
       "            <td></td>               <th>coef</th>     <th>std err</th>      <th>z</th>      <th>P>|z|</th>  <th>[0.025</th>    <th>0.975]</th>  \n",
       "</tr>\n",
       "<tr>\n",
       "  <th>Intercept</th>             <td>   43.2909</td> <td>    5.330</td> <td>    8.122</td> <td> 0.000</td> <td>   32.845</td> <td>   53.737</td>\n",
       "</tr>\n",
       "<tr>\n",
       "  <th>boro[T.Brooklyn]</th>      <td>   34.5621</td> <td>    5.535</td> <td>    6.244</td> <td> 0.000</td> <td>   23.714</td> <td>   45.411</td>\n",
       "</tr>\n",
       "<tr>\n",
       "  <th>boro[T.Manhattan]</th>     <td>  130.9924</td> <td>    5.385</td> <td>   24.327</td> <td> 0.000</td> <td>  120.439</td> <td>  141.546</td>\n",
       "</tr>\n",
       "<tr>\n",
       "  <th>boro[T.Queens]</th>        <td>   32.9937</td> <td>    5.663</td> <td>    5.827</td> <td> 0.000</td> <td>   21.895</td> <td>   44.092</td>\n",
       "</tr>\n",
       "<tr>\n",
       "  <th>boro[T.Staten Island]</th> <td>   -3.6303</td> <td>    9.993</td> <td>   -0.363</td> <td> 0.716</td> <td>  -23.216</td> <td>   15.956</td>\n",
       "</tr>\n",
       "<tr>\n",
       "  <th>units</th>                 <td>   -0.1881</td> <td>    0.022</td> <td>   -8.511</td> <td> 0.000</td> <td>   -0.231</td> <td>   -0.145</td>\n",
       "</tr>\n",
       "<tr>\n",
       "  <th>sq_ft</th>                 <td>    0.0002</td> <td> 2.09e-05</td> <td>   10.079</td> <td> 0.000</td> <td>    0.000</td> <td>    0.000</td>\n",
       "</tr>\n",
       "</table>"
      ],
      "text/plain": [
       "<class 'statsmodels.iolib.summary.Summary'>\n",
       "\"\"\"\n",
       "                 Generalized Linear Model Regression Results                  \n",
       "==============================================================================\n",
       "Dep. Variable:        value_per_sq_ft   No. Observations:                 2626\n",
       "Model:                            GLM   Df Residuals:                     2619\n",
       "Model Family:                Gaussian   Df Model:                            6\n",
       "Link Function:               identity   Scale:                          1879.5\n",
       "Method:                          IRLS   Log-Likelihood:                -13621.\n",
       "Date:                Fri, 14 Aug 2020   Deviance:                   4.9224e+06\n",
       "Time:                        15:41:02   Pearson chi2:                 4.92e+06\n",
       "No. Iterations:                     3                                         \n",
       "Covariance Type:            nonrobust                                         \n",
       "=========================================================================================\n",
       "                            coef    std err          z      P>|z|      [0.025      0.975]\n",
       "-----------------------------------------------------------------------------------------\n",
       "Intercept                43.2909      5.330      8.122      0.000      32.845      53.737\n",
       "boro[T.Brooklyn]         34.5621      5.535      6.244      0.000      23.714      45.411\n",
       "boro[T.Manhattan]       130.9924      5.385     24.327      0.000     120.439     141.546\n",
       "boro[T.Queens]           32.9937      5.663      5.827      0.000      21.895      44.092\n",
       "boro[T.Staten Island]    -3.6303      9.993     -0.363      0.716     -23.216      15.956\n",
       "units                    -0.1881      0.022     -8.511      0.000      -0.231      -0.145\n",
       "sq_ft                     0.0002   2.09e-05     10.079      0.000       0.000       0.000\n",
       "=========================================================================================\n",
       "\"\"\""
      ]
     },
     "execution_count": 4,
     "metadata": {},
     "output_type": "execute_result"
    }
   ],
   "source": [
    "# Create model(multiple linear regression)\n",
    "house1 = sm.glm(\"value_per_sq_ft ~ units + sq_ft + boro\", data = housing).fit()\n",
    "\n",
    "# print results\n",
    "house1.summary()\n"
   ]
  },
  {
   "cell_type": "code",
   "execution_count": 5,
   "metadata": {},
   "outputs": [],
   "source": [
    "# Let's do some plots.\n",
    "import seaborn as sns\n",
    "import matplotlib.pyplot as plt\n"
   ]
  },
  {
   "cell_type": "code",
   "execution_count": 6,
   "metadata": {},
   "outputs": [
    {
     "data": {
      "image/png": "[encoded data removed]",
      "text/plain": [
       "<Figure size 432x288 with 1 Axes>"
      ]
     },
     "metadata": {
      "needs_background": "light"
     },
     "output_type": "display_data"
    }
   ],
   "source": [
    "# Plotting the residuals using the regplot\n",
    "\n",
    "fig, ax = plt.subplots()\n",
    "ax = sns.regplot(x = house1.fittedvalues, y = house1.resid_deviance, fit_reg = False)\n",
    "plt.show()\n"
   ]
  },
  {
   "cell_type": "code",
   "execution_count": 7,
   "metadata": {},
   "outputs": [
    {
     "data": {
      "image/png": "[encoded data removed]",
      "text/plain": [
       "<Figure size 461.625x360 with 1 Axes>"
      ]
     },
     "metadata": {
      "needs_background": "light"
     },
     "output_type": "display_data"
    }
   ],
   "source": [
    "#Let's color the plot to see the boro variable\n",
    "\n",
    "res_df = pd.DataFrame({\"fittedvalues\":house1.fittedvalues,\"resid_deviance\":house1.resid_deviance, \"boro\": housing[\"boro\"]})\n",
    "\n",
    "fig= sns.lmplot(x= \"fittedvalues\", y = \"resid_deviance\", data = res_df, hue = \"boro\", fit_reg = False)\n",
    "\n",
    "plt.show()"
   ]
  },
  {
   "cell_type": "markdown",
   "metadata": {},
   "source": [
    "# 14.2.1 Q-Q plots"
   ]
  },
  {
   "cell_type": "code",
   "execution_count": 8,
   "metadata": {},
   "outputs": [],
   "source": [
    "from scipy import stats"
   ]
  },
  {
   "cell_type": "code",
   "execution_count": 9,
   "metadata": {},
   "outputs": [],
   "source": [
    "# work on the variables\n",
    "\n",
    "resid= house1.resid_deviance.copy()\n",
    "resid_std = stats.zscore(resid)"
   ]
  },
  {
   "cell_type": "code",
   "execution_count": 10,
   "metadata": {},
   "outputs": [
    {
     "data": {
      "image/png": "[encoded data removed]",
      "text/plain": [
       "<Figure size 432x288 with 1 Axes>"
      ]
     },
     "metadata": {
      "needs_background": "light"
     },
     "output_type": "display_data"
    }
   ],
   "source": [
    "# Create plot (\"if the blue points fall in the red line means our data match our reference distribitution\")\n",
    "\n",
    "fig=statsmodels.graphics.gofplots.qqplot(resid,line = \"r\")\n",
    "plt.show()"
   ]
  },
  {
   "cell_type": "code",
   "execution_count": 11,
   "metadata": {},
   "outputs": [
    {
     "data": {
      "image/png": "[encoded data removed]",
      "text/plain": [
       "<Figure size 432x288 with 1 Axes>"
      ]
     },
     "metadata": {
      "needs_background": "light"
     },
     "output_type": "display_data"
    }
   ],
   "source": [
    "# we can also plot a histogram of the residuals\n",
    "\n",
    "fig, ax = plt.subplots()\n",
    "ax = sns.distplot(resid_std)\n",
    "plt.show()"
   ]
  },
  {
   "cell_type": "markdown",
   "metadata": {},
   "source": [
    "# 14.3 Comparing multiple models"
   ]
  },
  {
   "cell_type": "markdown",
   "metadata": {},
   "source": [
    "# 14.3.1 Working with linear models "
   ]
  },
  {
   "cell_type": "code",
   "execution_count": 12,
   "metadata": {},
   "outputs": [],
   "source": [
    "# some models use the + operator to add covariates to the models and others use the * operator to indicate variables that are\n",
    "# interacting and behaving not dependent of each other\n",
    "\n",
    "f1 = \"value_per_sq_ft ~ units + sq_ft + boro\"\n",
    "f2 = \"value_per_sq_ft ~ units * sq_ft + boro\"\n",
    "f3 = \"value_per_sq_ft ~ units + sq_ft * boro + type\"\n",
    "f4 = \"value_per_sq_ft ~ units + sq_ft * boro + sq_ft * type\"\n",
    "f5 = \"value_per_sq_ft ~ boro + type\"\n",
    "\n",
    "\n",
    "house1 = sm.ols(f1, data = housing).fit()\n",
    "house2 = sm.ols(f2, data = housing).fit()\n",
    "house3 = sm.ols(f3, data = housing).fit()\n",
    "house4 = sm.ols(f4, data = housing).fit()\n",
    "house5 = sm.ols(f5, data = housing).fit()\n",
    "\n"
   ]
  },
  {
   "cell_type": "code",
   "execution_count": 13,
   "metadata": {},
   "outputs": [
    {
     "data": {
      "text/html": [
       "<div>\n",
       "<style scoped>\n",
       "    .dataframe tbody tr th:only-of-type {\n",
       "        vertical-align: middle;\n",
       "    }\n",
       "\n",
       "    .dataframe tbody tr th {\n",
       "        vertical-align: top;\n",
       "    }\n",
       "\n",
       "    .dataframe thead th {\n",
       "        text-align: right;\n",
       "    }\n",
       "</style>\n",
       "<table border=\"1\" class=\"dataframe\">\n",
       "  <thead>\n",
       "    <tr style=\"text-align: right;\">\n",
       "      <th></th>\n",
       "      <th>param</th>\n",
       "      <th>model</th>\n",
       "      <th>estimate</th>\n",
       "    </tr>\n",
       "  </thead>\n",
       "  <tbody>\n",
       "    <tr>\n",
       "      <th>0</th>\n",
       "      <td>Intercept</td>\n",
       "      <td>house1</td>\n",
       "      <td>43.290863</td>\n",
       "    </tr>\n",
       "    <tr>\n",
       "      <th>1</th>\n",
       "      <td>boro[T.Brooklyn]</td>\n",
       "      <td>house1</td>\n",
       "      <td>34.562150</td>\n",
       "    </tr>\n",
       "    <tr>\n",
       "      <th>2</th>\n",
       "      <td>boro[T.Manhattan]</td>\n",
       "      <td>house1</td>\n",
       "      <td>130.992363</td>\n",
       "    </tr>\n",
       "    <tr>\n",
       "      <th>3</th>\n",
       "      <td>boro[T.Queens]</td>\n",
       "      <td>house1</td>\n",
       "      <td>32.993674</td>\n",
       "    </tr>\n",
       "    <tr>\n",
       "      <th>4</th>\n",
       "      <td>boro[T.Staten Island]</td>\n",
       "      <td>house1</td>\n",
       "      <td>-3.630251</td>\n",
       "    </tr>\n",
       "    <tr>\n",
       "      <th>...</th>\n",
       "      <td>...</td>\n",
       "      <td>...</td>\n",
       "      <td>...</td>\n",
       "    </tr>\n",
       "    <tr>\n",
       "      <th>85</th>\n",
       "      <td>sq_ft:boro[T.Queens]</td>\n",
       "      <td>house5</td>\n",
       "      <td>NaN</td>\n",
       "    </tr>\n",
       "    <tr>\n",
       "      <th>86</th>\n",
       "      <td>sq_ft:boro[T.Staten Island]</td>\n",
       "      <td>house5</td>\n",
       "      <td>NaN</td>\n",
       "    </tr>\n",
       "    <tr>\n",
       "      <th>87</th>\n",
       "      <td>sq_ft:type[T.R4-CONDOMINIUM]</td>\n",
       "      <td>house5</td>\n",
       "      <td>NaN</td>\n",
       "    </tr>\n",
       "    <tr>\n",
       "      <th>88</th>\n",
       "      <td>sq_ft:type[T.R9-CONDOMINIUM]</td>\n",
       "      <td>house5</td>\n",
       "      <td>NaN</td>\n",
       "    </tr>\n",
       "    <tr>\n",
       "      <th>89</th>\n",
       "      <td>sq_ft:type[T.RR-CONDOMINIUM]</td>\n",
       "      <td>house5</td>\n",
       "      <td>NaN</td>\n",
       "    </tr>\n",
       "  </tbody>\n",
       "</table>\n",
       "<p>90 rows × 3 columns</p>\n",
       "</div>"
      ],
      "text/plain": [
       "                           param   model    estimate\n",
       "0                      Intercept  house1   43.290863\n",
       "1               boro[T.Brooklyn]  house1   34.562150\n",
       "2              boro[T.Manhattan]  house1  130.992363\n",
       "3                 boro[T.Queens]  house1   32.993674\n",
       "4          boro[T.Staten Island]  house1   -3.630251\n",
       "..                           ...     ...         ...\n",
       "85          sq_ft:boro[T.Queens]  house5         NaN\n",
       "86   sq_ft:boro[T.Staten Island]  house5         NaN\n",
       "87  sq_ft:type[T.R4-CONDOMINIUM]  house5         NaN\n",
       "88  sq_ft:type[T.R9-CONDOMINIUM]  house5         NaN\n",
       "89  sq_ft:type[T.RR-CONDOMINIUM]  house5         NaN\n",
       "\n",
       "[90 rows x 3 columns]"
      ]
     },
     "execution_count": 13,
     "metadata": {},
     "output_type": "execute_result"
    }
   ],
   "source": [
    "#results parameters\n",
    "\n",
    "mod_results = pd.concat([house1.params, house2.params, house3.params, house4.params,house5.params], \n",
    "                        axis = 1).rename(columns = lambda x: \"house\" + str(x+1)).reset_index().rename(columns = {\"index\": \"param\"}).melt(id_vars = \"param\", var_name = \"model\", value_name = \"estimate\")\n",
    "mod_results"
   ]
  },
  {
   "cell_type": "code",
   "execution_count": 14,
   "metadata": {},
   "outputs": [
    {
     "data": {
      "image/png": "[encoded data removed]",
      "text/plain": [
       "<Figure size 432x288 with 1 Axes>"
      ]
     },
     "metadata": {
      "needs_background": "light"
     },
     "output_type": "display_data"
    }
   ],
   "source": [
    "# Plotting the coefficients\n",
    "fig, ax = plt.subplots()\n",
    "ax = sns.pointplot(x = \"estimate\", y = \"param\", hue = \"model\", data = mod_results, dodge = True, join= False)\n"
   ]
  },
  {
   "cell_type": "code",
   "execution_count": 15,
   "metadata": {},
   "outputs": [
    {
     "name": "stderr",
     "output_type": "stream",
     "text": [
      "C:\\Users\\adri_\\Anaconda3\\lib\\site-packages\\scipy\\stats\\_distn_infrastructure.py:903: RuntimeWarning: invalid value encountered in greater\n",
      "  return (a < x) & (x < b)\n",
      "C:\\Users\\adri_\\Anaconda3\\lib\\site-packages\\scipy\\stats\\_distn_infrastructure.py:903: RuntimeWarning: invalid value encountered in less\n",
      "  return (a < x) & (x < b)\n",
      "C:\\Users\\adri_\\Anaconda3\\lib\\site-packages\\scipy\\stats\\_distn_infrastructure.py:1912: RuntimeWarning: invalid value encountered in less_equal\n",
      "  cond2 = cond0 & (x <= _a)\n"
     ]
    },
    {
     "data": {
      "text/html": [
       "<div>\n",
       "<style scoped>\n",
       "    .dataframe tbody tr th:only-of-type {\n",
       "        vertical-align: middle;\n",
       "    }\n",
       "\n",
       "    .dataframe tbody tr th {\n",
       "        vertical-align: top;\n",
       "    }\n",
       "\n",
       "    .dataframe thead th {\n",
       "        text-align: right;\n",
       "    }\n",
       "</style>\n",
       "<table border=\"1\" class=\"dataframe\">\n",
       "  <thead>\n",
       "    <tr style=\"text-align: right;\">\n",
       "      <th></th>\n",
       "      <th>df_resid</th>\n",
       "      <th>ssr</th>\n",
       "      <th>df_diff</th>\n",
       "      <th>ss_diff</th>\n",
       "      <th>F</th>\n",
       "      <th>Pr(&gt;F)</th>\n",
       "    </tr>\n",
       "  </thead>\n",
       "  <tbody>\n",
       "    <tr>\n",
       "      <th>house1</th>\n",
       "      <td>2619.0</td>\n",
       "      <td>4.922389e+06</td>\n",
       "      <td>0.0</td>\n",
       "      <td>NaN</td>\n",
       "      <td>NaN</td>\n",
       "      <td>NaN</td>\n",
       "    </tr>\n",
       "    <tr>\n",
       "      <th>house2</th>\n",
       "      <td>2618.0</td>\n",
       "      <td>4.884872e+06</td>\n",
       "      <td>1.0</td>\n",
       "      <td>37517.437605</td>\n",
       "      <td>20.039049</td>\n",
       "      <td>7.912333e-06</td>\n",
       "    </tr>\n",
       "    <tr>\n",
       "      <th>house3</th>\n",
       "      <td>2612.0</td>\n",
       "      <td>4.619926e+06</td>\n",
       "      <td>6.0</td>\n",
       "      <td>264945.539994</td>\n",
       "      <td>23.585728</td>\n",
       "      <td>2.754431e-27</td>\n",
       "    </tr>\n",
       "    <tr>\n",
       "      <th>house_4</th>\n",
       "      <td>2609.0</td>\n",
       "      <td>4.576671e+06</td>\n",
       "      <td>3.0</td>\n",
       "      <td>43255.441192</td>\n",
       "      <td>7.701289</td>\n",
       "      <td>4.025581e-05</td>\n",
       "    </tr>\n",
       "    <tr>\n",
       "      <th>house5</th>\n",
       "      <td>2618.0</td>\n",
       "      <td>4.901463e+06</td>\n",
       "      <td>-9.0</td>\n",
       "      <td>-324791.847907</td>\n",
       "      <td>19.275539</td>\n",
       "      <td>NaN</td>\n",
       "    </tr>\n",
       "  </tbody>\n",
       "</table>\n",
       "</div>"
      ],
      "text/plain": [
       "         df_resid           ssr  df_diff        ss_diff          F  \\\n",
       "house1     2619.0  4.922389e+06      0.0            NaN        NaN   \n",
       "house2     2618.0  4.884872e+06      1.0   37517.437605  20.039049   \n",
       "house3     2612.0  4.619926e+06      6.0  264945.539994  23.585728   \n",
       "house_4    2609.0  4.576671e+06      3.0   43255.441192   7.701289   \n",
       "house5     2618.0  4.901463e+06     -9.0 -324791.847907  19.275539   \n",
       "\n",
       "               Pr(>F)  \n",
       "house1            NaN  \n",
       "house2   7.912333e-06  \n",
       "house3   2.754431e-27  \n",
       "house_4  4.025581e-05  \n",
       "house5            NaN  "
      ]
     },
     "execution_count": 15,
     "metadata": {},
     "output_type": "execute_result"
    }
   ],
   "source": [
    "# Analysis of variance (ANOVA). It will give the residual sum of squaresm(RSS) to measure performance(the lower the better)\n",
    "\n",
    "model_names = [\"house1\", \"house2\", \"house3\",\"house_4\", \"house5\"]\n",
    "house_anova = statsmodels.stats.anova.anova_lm(house1, house2,house3,house4,house5)\n",
    "house_anova.index = model_names\n",
    "house_anova"
   ]
  },
  {
   "cell_type": "markdown",
   "metadata": {},
   "source": [
    "# 14.3.2 Working with GLM models"
   ]
  },
  {
   "cell_type": "code",
   "execution_count": 16,
   "metadata": {},
   "outputs": [
    {
     "data": {
      "text/html": [
       "<div>\n",
       "<style scoped>\n",
       "    .dataframe tbody tr th:only-of-type {\n",
       "        vertical-align: middle;\n",
       "    }\n",
       "\n",
       "    .dataframe tbody tr th {\n",
       "        vertical-align: top;\n",
       "    }\n",
       "\n",
       "    .dataframe thead th {\n",
       "        text-align: right;\n",
       "    }\n",
       "</style>\n",
       "<table border=\"1\" class=\"dataframe\">\n",
       "  <thead>\n",
       "    <tr style=\"text-align: right;\">\n",
       "      <th></th>\n",
       "      <th>df_residuals</th>\n",
       "      <th>resid_stddev</th>\n",
       "      <th>df</th>\n",
       "      <th>deviance</th>\n",
       "    </tr>\n",
       "  </thead>\n",
       "  <tbody>\n",
       "    <tr>\n",
       "      <th>0</th>\n",
       "      <td>2619</td>\n",
       "      <td>4.922389e+06</td>\n",
       "      <td>6</td>\n",
       "      <td>4.922389e+06</td>\n",
       "    </tr>\n",
       "    <tr>\n",
       "      <th>1</th>\n",
       "      <td>2618</td>\n",
       "      <td>4.884872e+06</td>\n",
       "      <td>7</td>\n",
       "      <td>4.884872e+06</td>\n",
       "    </tr>\n",
       "    <tr>\n",
       "      <th>2</th>\n",
       "      <td>2612</td>\n",
       "      <td>4.619926e+06</td>\n",
       "      <td>13</td>\n",
       "      <td>4.619926e+06</td>\n",
       "    </tr>\n",
       "    <tr>\n",
       "      <th>3</th>\n",
       "      <td>2609</td>\n",
       "      <td>4.576671e+06</td>\n",
       "      <td>16</td>\n",
       "      <td>4.576671e+06</td>\n",
       "    </tr>\n",
       "    <tr>\n",
       "      <th>4</th>\n",
       "      <td>2618</td>\n",
       "      <td>4.901463e+06</td>\n",
       "      <td>7</td>\n",
       "      <td>4.901463e+06</td>\n",
       "    </tr>\n",
       "  </tbody>\n",
       "</table>\n",
       "</div>"
      ],
      "text/plain": [
       "   df_residuals  resid_stddev  df      deviance\n",
       "0          2619  4.922389e+06   6  4.922389e+06\n",
       "1          2618  4.884872e+06   7  4.884872e+06\n",
       "2          2612  4.619926e+06  13  4.619926e+06\n",
       "3          2609  4.576671e+06  16  4.576671e+06\n",
       "4          2618  4.901463e+06   7  4.901463e+06"
      ]
     },
     "execution_count": 16,
     "metadata": {},
     "output_type": "execute_result"
    }
   ],
   "source": [
    "# here the ANOVA is simply the deviance of the model\n",
    "\n",
    "def anova_deviance_table(*models):\n",
    "    return pd.DataFrame({\n",
    "        \"df_residuals\": [i.df_resid for i in models],\n",
    "        \"resid_stddev\": [i.deviance for i in models],\n",
    "        \"df\": [i.df_model for i in models], \n",
    "        \"deviance\": [i.deviance for i in models]})\n",
    "\n",
    "\n",
    "f1 = \"value_per_sq_ft ~ units + sq_ft + boro\"\n",
    "f2 = \"value_per_sq_ft ~ units * sq_ft + boro\"\n",
    "f3 = \"value_per_sq_ft ~ units + sq_ft * boro + type\"\n",
    "f4 = \"value_per_sq_ft ~ units + sq_ft * boro + sq_ft * type\"\n",
    "f5 = \"value_per_sq_ft ~ boro + type\"\n",
    "\n",
    "\n",
    "glm1 = sm.glm(f1, data = housing).fit()\n",
    "glm2 = sm.glm(f2, data = housing).fit()\n",
    "glm3 = sm.glm(f3, data = housing).fit()\n",
    "glm4 = sm.glm(f4, data = housing).fit()\n",
    "glm5 = sm.glm(f5, data = housing).fit()\n",
    "\n",
    "\n",
    "glm_anova = anova_deviance_table(glm1,glm2,glm3,glm4,glm5)\n",
    "glm_anova\n"
   ]
  },
  {
   "cell_type": "markdown",
   "metadata": {},
   "source": [
    "# K-Fold Cross validation"
   ]
  },
  {
   "cell_type": "code",
   "execution_count": 17,
   "metadata": {},
   "outputs": [
    {
     "data": {
      "text/plain": [
       "Index(['neighborhood', 'type', 'units', 'year_built', 'sq_ft', 'income',\n",
       "       'income_per_sq_ft', 'expense', 'expense_per_sq_ft', 'net_income',\n",
       "       'value', 'value_per_sq_ft', 'boro'],\n",
       "      dtype='object')"
      ]
     },
     "execution_count": 17,
     "metadata": {},
     "output_type": "execute_result"
    }
   ],
   "source": [
    "# How well the model performns on new data\n",
    "\n",
    "from sklearn.model_selection import train_test_split\n",
    "from sklearn.linear_model import LinearRegression\n",
    "\n",
    "# Let's look at our column names\n",
    "\n",
    "housing.columns"
   ]
  },
  {
   "cell_type": "code",
   "execution_count": 18,
   "metadata": {},
   "outputs": [],
   "source": [
    "# get training and test data\n",
    "X_train, X_test, y_train, y_test = train_test_split(\n",
    "    pd.get_dummies(housing[[\"units\", \"sq_ft\", \"boro\"]],\n",
    "                   drop_first = True),\n",
    "    housing[\"value_per_sq_ft\"], test_size = 0.20, random_state = 42)"
   ]
  },
  {
   "cell_type": "code",
   "execution_count": 19,
   "metadata": {},
   "outputs": [
    {
     "name": "stdout",
     "output_type": "stream",
     "text": [
      "0.613712528503087\n"
     ]
    }
   ],
   "source": [
    "# We can get a score that indicates how well our model is performing using our test data\n",
    "\n",
    "lr = LinearRegression().fit(X_train, y_train)\n",
    "print(lr.score(X_test, y_test))"
   ]
  },
  {
   "cell_type": "code",
   "execution_count": 20,
   "metadata": {},
   "outputs": [],
   "source": [
    "# Since sklearn relies on numpy, we can use the patsy library. We want to use the dmatrices function\n",
    "\n",
    "from patsy import dmatrices"
   ]
  },
  {
   "cell_type": "code",
   "execution_count": 21,
   "metadata": {},
   "outputs": [
    {
     "name": "stdout",
     "output_type": "stream",
     "text": [
      "0.613712528502564\n"
     ]
    }
   ],
   "source": [
    "# Code to reproduce how well our model is performing using our test data(same as above)\n",
    "\n",
    "y, X = dmatrices(\"value_per_sq_ft ~ units + sq_ft + boro\", housing, return_type = \"dataframe\")\n",
    "\n",
    "X_train, X_test, y_train, y_test = train_test_split(X, y, test_size = 0.20, random_state = 42)\n",
    "\n",
    "lr = LinearRegression().fit(X_train, y_train)\n",
    "\n",
    "print(lr.score(X_test, y_test))"
   ]
  },
  {
   "cell_type": "code",
   "execution_count": 22,
   "metadata": {},
   "outputs": [],
   "source": [
    "# to perform a k-fold cross-validation, we need to import this function  from sklearn:\n",
    "\n",
    "from sklearn.model_selection import KFold, cross_val_score"
   ]
  },
  {
   "cell_type": "code",
   "execution_count": 23,
   "metadata": {},
   "outputs": [
    {
     "data": {
      "text/html": [
       "<div>\n",
       "<style scoped>\n",
       "    .dataframe tbody tr th:only-of-type {\n",
       "        vertical-align: middle;\n",
       "    }\n",
       "\n",
       "    .dataframe tbody tr th {\n",
       "        vertical-align: top;\n",
       "    }\n",
       "\n",
       "    .dataframe thead th {\n",
       "        text-align: right;\n",
       "    }\n",
       "</style>\n",
       "<table border=\"1\" class=\"dataframe\">\n",
       "  <thead>\n",
       "    <tr style=\"text-align: right;\">\n",
       "      <th></th>\n",
       "      <th>neighborhood</th>\n",
       "      <th>type</th>\n",
       "      <th>units</th>\n",
       "      <th>year_built</th>\n",
       "      <th>sq_ft</th>\n",
       "      <th>income</th>\n",
       "      <th>income_per_sq_ft</th>\n",
       "      <th>expense</th>\n",
       "      <th>expense_per_sq_ft</th>\n",
       "      <th>net_income</th>\n",
       "      <th>value</th>\n",
       "      <th>value_per_sq_ft</th>\n",
       "      <th>boro</th>\n",
       "    </tr>\n",
       "  </thead>\n",
       "  <tbody>\n",
       "    <tr>\n",
       "      <th>0</th>\n",
       "      <td>FINANCIAL</td>\n",
       "      <td>R9-CONDOMINIUM</td>\n",
       "      <td>42</td>\n",
       "      <td>1920.0</td>\n",
       "      <td>36500</td>\n",
       "      <td>1332615</td>\n",
       "      <td>36.51</td>\n",
       "      <td>342005</td>\n",
       "      <td>9.37</td>\n",
       "      <td>990610</td>\n",
       "      <td>7300000</td>\n",
       "      <td>200.00</td>\n",
       "      <td>Manhattan</td>\n",
       "    </tr>\n",
       "    <tr>\n",
       "      <th>1</th>\n",
       "      <td>FINANCIAL</td>\n",
       "      <td>R4-CONDOMINIUM</td>\n",
       "      <td>78</td>\n",
       "      <td>1985.0</td>\n",
       "      <td>126420</td>\n",
       "      <td>6633257</td>\n",
       "      <td>52.47</td>\n",
       "      <td>1762295</td>\n",
       "      <td>13.94</td>\n",
       "      <td>4870962</td>\n",
       "      <td>30690000</td>\n",
       "      <td>242.76</td>\n",
       "      <td>Manhattan</td>\n",
       "    </tr>\n",
       "    <tr>\n",
       "      <th>2</th>\n",
       "      <td>FINANCIAL</td>\n",
       "      <td>RR-CONDOMINIUM</td>\n",
       "      <td>500</td>\n",
       "      <td>NaN</td>\n",
       "      <td>554174</td>\n",
       "      <td>17310000</td>\n",
       "      <td>31.24</td>\n",
       "      <td>3543000</td>\n",
       "      <td>6.39</td>\n",
       "      <td>13767000</td>\n",
       "      <td>90970000</td>\n",
       "      <td>164.15</td>\n",
       "      <td>Manhattan</td>\n",
       "    </tr>\n",
       "    <tr>\n",
       "      <th>3</th>\n",
       "      <td>FINANCIAL</td>\n",
       "      <td>R4-CONDOMINIUM</td>\n",
       "      <td>282</td>\n",
       "      <td>1930.0</td>\n",
       "      <td>249076</td>\n",
       "      <td>11776313</td>\n",
       "      <td>47.28</td>\n",
       "      <td>2784670</td>\n",
       "      <td>11.18</td>\n",
       "      <td>8991643</td>\n",
       "      <td>67556006</td>\n",
       "      <td>271.23</td>\n",
       "      <td>Manhattan</td>\n",
       "    </tr>\n",
       "    <tr>\n",
       "      <th>4</th>\n",
       "      <td>TRIBECA</td>\n",
       "      <td>R4-CONDOMINIUM</td>\n",
       "      <td>239</td>\n",
       "      <td>1985.0</td>\n",
       "      <td>219495</td>\n",
       "      <td>10004582</td>\n",
       "      <td>45.58</td>\n",
       "      <td>2783197</td>\n",
       "      <td>12.68</td>\n",
       "      <td>7221385</td>\n",
       "      <td>54320996</td>\n",
       "      <td>247.48</td>\n",
       "      <td>Manhattan</td>\n",
       "    </tr>\n",
       "    <tr>\n",
       "      <th>...</th>\n",
       "      <td>...</td>\n",
       "      <td>...</td>\n",
       "      <td>...</td>\n",
       "      <td>...</td>\n",
       "      <td>...</td>\n",
       "      <td>...</td>\n",
       "      <td>...</td>\n",
       "      <td>...</td>\n",
       "      <td>...</td>\n",
       "      <td>...</td>\n",
       "      <td>...</td>\n",
       "      <td>...</td>\n",
       "      <td>...</td>\n",
       "    </tr>\n",
       "    <tr>\n",
       "      <th>2621</th>\n",
       "      <td>ROSEBANK</td>\n",
       "      <td>R4-CONDOMINIUM</td>\n",
       "      <td>52</td>\n",
       "      <td>NaN</td>\n",
       "      <td>62391</td>\n",
       "      <td>831672</td>\n",
       "      <td>13.33</td>\n",
       "      <td>326305</td>\n",
       "      <td>5.23</td>\n",
       "      <td>505367</td>\n",
       "      <td>3354003</td>\n",
       "      <td>53.76</td>\n",
       "      <td>Staten Island</td>\n",
       "    </tr>\n",
       "    <tr>\n",
       "      <th>2622</th>\n",
       "      <td>ARROCHAR-SHORE ACRES</td>\n",
       "      <td>R4-CONDOMINIUM</td>\n",
       "      <td>102</td>\n",
       "      <td>1987.0</td>\n",
       "      <td>90618</td>\n",
       "      <td>1274089</td>\n",
       "      <td>14.06</td>\n",
       "      <td>637045</td>\n",
       "      <td>7.03</td>\n",
       "      <td>637044</td>\n",
       "      <td>5233000</td>\n",
       "      <td>57.75</td>\n",
       "      <td>Staten Island</td>\n",
       "    </tr>\n",
       "    <tr>\n",
       "      <th>2623</th>\n",
       "      <td>GRANT CITY</td>\n",
       "      <td>R4-CONDOMINIUM</td>\n",
       "      <td>100</td>\n",
       "      <td>1986.0</td>\n",
       "      <td>78903</td>\n",
       "      <td>1321625</td>\n",
       "      <td>16.75</td>\n",
       "      <td>673832</td>\n",
       "      <td>8.54</td>\n",
       "      <td>647793</td>\n",
       "      <td>4687000</td>\n",
       "      <td>59.40</td>\n",
       "      <td>Staten Island</td>\n",
       "    </tr>\n",
       "    <tr>\n",
       "      <th>2624</th>\n",
       "      <td>GRANT CITY</td>\n",
       "      <td>R4-CONDOMINIUM</td>\n",
       "      <td>159</td>\n",
       "      <td>1961.0</td>\n",
       "      <td>166712</td>\n",
       "      <td>2343971</td>\n",
       "      <td>14.06</td>\n",
       "      <td>1171985</td>\n",
       "      <td>7.03</td>\n",
       "      <td>1171986</td>\n",
       "      <td>5967531</td>\n",
       "      <td>35.80</td>\n",
       "      <td>Staten Island</td>\n",
       "    </tr>\n",
       "    <tr>\n",
       "      <th>2625</th>\n",
       "      <td>GREAT KILLS</td>\n",
       "      <td>R4-CONDOMINIUM</td>\n",
       "      <td>67</td>\n",
       "      <td>1965.0</td>\n",
       "      <td>108864</td>\n",
       "      <td>1298748</td>\n",
       "      <td>11.93</td>\n",
       "      <td>722857</td>\n",
       "      <td>6.64</td>\n",
       "      <td>575891</td>\n",
       "      <td>3673011</td>\n",
       "      <td>33.74</td>\n",
       "      <td>Staten Island</td>\n",
       "    </tr>\n",
       "  </tbody>\n",
       "</table>\n",
       "<p>2626 rows × 13 columns</p>\n",
       "</div>"
      ],
      "text/plain": [
       "              neighborhood            type  units  year_built   sq_ft  \\\n",
       "0                FINANCIAL  R9-CONDOMINIUM     42      1920.0   36500   \n",
       "1                FINANCIAL  R4-CONDOMINIUM     78      1985.0  126420   \n",
       "2                FINANCIAL  RR-CONDOMINIUM    500         NaN  554174   \n",
       "3                FINANCIAL  R4-CONDOMINIUM    282      1930.0  249076   \n",
       "4                  TRIBECA  R4-CONDOMINIUM    239      1985.0  219495   \n",
       "...                    ...             ...    ...         ...     ...   \n",
       "2621              ROSEBANK  R4-CONDOMINIUM     52         NaN   62391   \n",
       "2622  ARROCHAR-SHORE ACRES  R4-CONDOMINIUM    102      1987.0   90618   \n",
       "2623            GRANT CITY  R4-CONDOMINIUM    100      1986.0   78903   \n",
       "2624            GRANT CITY  R4-CONDOMINIUM    159      1961.0  166712   \n",
       "2625           GREAT KILLS  R4-CONDOMINIUM     67      1965.0  108864   \n",
       "\n",
       "        income  income_per_sq_ft  expense  expense_per_sq_ft  net_income  \\\n",
       "0      1332615             36.51   342005               9.37      990610   \n",
       "1      6633257             52.47  1762295              13.94     4870962   \n",
       "2     17310000             31.24  3543000               6.39    13767000   \n",
       "3     11776313             47.28  2784670              11.18     8991643   \n",
       "4     10004582             45.58  2783197              12.68     7221385   \n",
       "...        ...               ...      ...                ...         ...   \n",
       "2621    831672             13.33   326305               5.23      505367   \n",
       "2622   1274089             14.06   637045               7.03      637044   \n",
       "2623   1321625             16.75   673832               8.54      647793   \n",
       "2624   2343971             14.06  1171985               7.03     1171986   \n",
       "2625   1298748             11.93   722857               6.64      575891   \n",
       "\n",
       "         value  value_per_sq_ft           boro  \n",
       "0      7300000           200.00      Manhattan  \n",
       "1     30690000           242.76      Manhattan  \n",
       "2     90970000           164.15      Manhattan  \n",
       "3     67556006           271.23      Manhattan  \n",
       "4     54320996           247.48      Manhattan  \n",
       "...        ...              ...            ...  \n",
       "2621   3354003            53.76  Staten Island  \n",
       "2622   5233000            57.75  Staten Island  \n",
       "2623   4687000            59.40  Staten Island  \n",
       "2624   5967531            35.80  Staten Island  \n",
       "2625   3673011            33.74  Staten Island  \n",
       "\n",
       "[2626 rows x 13 columns]"
      ]
     },
     "execution_count": 23,
     "metadata": {},
     "output_type": "execute_result"
    }
   ],
   "source": [
    "# get a fresh new housing data\n",
    "\n",
    "housing = pd.read_csv(\"C:/Users/adri_/Documents/GitHub- Adriana/Pandas for everyone/data/housing_renamed.csv\")\n",
    "housing\n"
   ]
  },
  {
   "cell_type": "code",
   "execution_count": 24,
   "metadata": {},
   "outputs": [],
   "source": [
    "# Number of folders\n",
    "\n",
    "kf = KFold(n_splits = 5)\n",
    "\n",
    "y, X = dmatrices(\"value_per_sq_ft ~ units + sq_ft + boro\", housing)"
   ]
  },
  {
   "cell_type": "code",
   "execution_count": 27,
   "metadata": {},
   "outputs": [
    {
     "data": {
      "text/html": [
       "<div>\n",
       "<style scoped>\n",
       "    .dataframe tbody tr th:only-of-type {\n",
       "        vertical-align: middle;\n",
       "    }\n",
       "\n",
       "    .dataframe tbody tr th {\n",
       "        vertical-align: top;\n",
       "    }\n",
       "\n",
       "    .dataframe thead th {\n",
       "        text-align: right;\n",
       "    }\n",
       "</style>\n",
       "<table border=\"1\" class=\"dataframe\">\n",
       "  <thead>\n",
       "    <tr style=\"text-align: right;\">\n",
       "      <th></th>\n",
       "      <th>Intercept</th>\n",
       "      <th>boro[T.Brooklyn]</th>\n",
       "      <th>boro[T.Manhattan]</th>\n",
       "      <th>boro[T.Queens]</th>\n",
       "      <th>boro[T.Staten Island]</th>\n",
       "      <th>units</th>\n",
       "      <th>sq_ft</th>\n",
       "    </tr>\n",
       "  </thead>\n",
       "  <tbody>\n",
       "    <tr>\n",
       "      <th>0</th>\n",
       "      <td>0.0</td>\n",
       "      <td>33.369037</td>\n",
       "      <td>129.904011</td>\n",
       "      <td>32.103100</td>\n",
       "      <td>-4.381085</td>\n",
       "      <td>-0.205890</td>\n",
       "      <td>0.000220</td>\n",
       "    </tr>\n",
       "    <tr>\n",
       "      <th>0</th>\n",
       "      <td>0.0</td>\n",
       "      <td>32.889925</td>\n",
       "      <td>116.957385</td>\n",
       "      <td>31.295956</td>\n",
       "      <td>-4.919232</td>\n",
       "      <td>-0.146180</td>\n",
       "      <td>0.000155</td>\n",
       "    </tr>\n",
       "    <tr>\n",
       "      <th>0</th>\n",
       "      <td>0.0</td>\n",
       "      <td>30.975560</td>\n",
       "      <td>141.859327</td>\n",
       "      <td>32.043449</td>\n",
       "      <td>-4.379916</td>\n",
       "      <td>-0.179671</td>\n",
       "      <td>0.000194</td>\n",
       "    </tr>\n",
       "    <tr>\n",
       "      <th>0</th>\n",
       "      <td>0.0</td>\n",
       "      <td>41.449196</td>\n",
       "      <td>130.779013</td>\n",
       "      <td>33.050968</td>\n",
       "      <td>-3.430209</td>\n",
       "      <td>-0.207904</td>\n",
       "      <td>0.000232</td>\n",
       "    </tr>\n",
       "    <tr>\n",
       "      <th>0</th>\n",
       "      <td>0.0</td>\n",
       "      <td>-38.511915</td>\n",
       "      <td>56.069855</td>\n",
       "      <td>-17.557939</td>\n",
       "      <td>0.000000</td>\n",
       "      <td>-0.145829</td>\n",
       "      <td>0.000202</td>\n",
       "    </tr>\n",
       "  </tbody>\n",
       "</table>\n",
       "</div>"
      ],
      "text/plain": [
       "   Intercept  boro[T.Brooklyn]  boro[T.Manhattan]  boro[T.Queens]  \\\n",
       "0        0.0         33.369037         129.904011       32.103100   \n",
       "0        0.0         32.889925         116.957385       31.295956   \n",
       "0        0.0         30.975560         141.859327       32.043449   \n",
       "0        0.0         41.449196         130.779013       33.050968   \n",
       "0        0.0        -38.511915          56.069855      -17.557939   \n",
       "\n",
       "   boro[T.Staten Island]     units     sq_ft  \n",
       "0              -4.381085 -0.205890  0.000220  \n",
       "0              -4.919232 -0.146180  0.000155  \n",
       "0              -4.379916 -0.179671  0.000194  \n",
       "0              -3.430209 -0.207904  0.000232  \n",
       "0               0.000000 -0.145829  0.000202  "
      ]
     },
     "execution_count": 27,
     "metadata": {},
     "output_type": "execute_result"
    }
   ],
   "source": [
    "# train and test the model on each fold\n",
    "\n",
    "coefs = []\n",
    "scores = []\n",
    "for train, test in kf.split(X):\n",
    "    X_train, X_test = X[train], X[test]\n",
    "    y_train, y_test = y[train], y[test]\n",
    "    lr = LinearRegression().fit(X_train, y_train)\n",
    "    coefs.append(pd.DataFrame(lr.coef_))\n",
    "    scores.append(lr.score(X_test, y_test))\n",
    "    coefs_df = pd.concat(coefs)\n",
    "    coefs_df.columns = X.design_info.column_names\n",
    "coefs_df"
   ]
  },
  {
   "cell_type": "code",
   "execution_count": 29,
   "metadata": {},
   "outputs": [
    {
     "data": {
      "text/plain": [
       "Intercept                  0.000000\n",
       "boro[T.Brooklyn]          20.034361\n",
       "boro[T.Manhattan]        115.113918\n",
       "boro[T.Queens]            22.187107\n",
       "boro[T.Staten Island]     -3.422088\n",
       "units                     -0.177095\n",
       "sq_ft                      0.000201\n",
       "dtype: float64"
      ]
     },
     "execution_count": 29,
     "metadata": {},
     "output_type": "execute_result"
    }
   ],
   "source": [
    "# we can take a look at the average coeffcient across all folds using \"apply\" and the np.mean function\n",
    "\n",
    "import numpy as np\n",
    "coefs_df.apply(np.mean)"
   ]
  },
  {
   "cell_type": "code",
   "execution_count": 30,
   "metadata": {},
   "outputs": [
    {
     "data": {
      "text/plain": [
       "[0.02731416290640731,\n",
       " -0.5538362212408723,\n",
       " -0.15636371688048145,\n",
       " -0.3234202061928868,\n",
       " -1.6929655586930985]"
      ]
     },
     "execution_count": 30,
     "metadata": {},
     "output_type": "execute_result"
    }
   ],
   "source": [
    "# we can also look at the scores. Each model has a default scoring method. Linear regression uses the R2(coeffcient of \n",
    "# determination)\n",
    "\n",
    "scores\n"
   ]
  },
  {
   "cell_type": "code",
   "execution_count": 34,
   "metadata": {},
   "outputs": [
    {
     "data": {
      "text/plain": [
       "array([ 0.02731416, -0.55383622, -0.15636372, -0.32342021, -1.69296556])"
      ]
     },
     "execution_count": 34,
     "metadata": {},
     "output_type": "execute_result"
    }
   ],
   "source": [
    "# we can also use cross_val scores\n",
    "\n",
    "model = LinearRegression()\n",
    "cross_val_score(model,X, y, cv = 5)"
   ]
  },
  {
   "cell_type": "code",
   "execution_count": 40,
   "metadata": {},
   "outputs": [
    {
     "name": "stdout",
     "output_type": "stream",
     "text": [
      "-0.5398543080201863\n"
     ]
    }
   ],
   "source": [
    "# Comparing multiple models to each other by comparing the average scores\n",
    "\n",
    "print(np.mean(scores))\n",
    "\n"
   ]
  },
  {
   "cell_type": "code",
   "execution_count": 46,
   "metadata": {},
   "outputs": [],
   "source": [
    "# Now, we refit all our models using the k-fold cross-validation\n",
    "\n",
    "#Create the predictor\n",
    "\n",
    "y1, X1 = dmatrices(\"value_per_sq_ft ~ units + sq_ft + boro\", housing)\n",
    "y2, X2 = dmatrices(\"value_per_sq_ft ~ units * sq_ft + boro\", housing)\n",
    "y3, X3 = dmatrices(\"value_per_sq_ft ~ units + sq_ft * boro + type\", housing)\n",
    "y4, X4 = dmatrices(\"value_per_sq_ft ~ units + sq_ft * boro + sq_ft * type\", housing)\n",
    "y5, X5 = dmatrices(\"value_per_sq_ft ~ boro + type\", housing)\n",
    "\n",
    "# fit our models\n",
    "LinearRegression()\n",
    "\n",
    "scores1 = cross_val_score(model,X1,y1, cv = 5)\n",
    "scores2 = cross_val_score(model,X2,y2, cv = 5)\n",
    "scores3 = cross_val_score(model,X3,y3, cv = 5)\n",
    "scores4 = cross_val_score(model,X4,y4, cv = 5)\n",
    "scores5 = cross_val_score(model,X5,y5, cv = 5)\n",
    "\n"
   ]
  },
  {
   "cell_type": "code",
   "execution_count": 48,
   "metadata": {},
   "outputs": [
    {
     "data": {
      "text/plain": [
       "0   -5.398543e-01\n",
       "1   -1.088184e+00\n",
       "2   -3.569802e+26\n",
       "3   -1.109834e+27\n",
       "4   -3.242427e+25\n",
       "dtype: float64"
      ]
     },
     "execution_count": 48,
     "metadata": {},
     "output_type": "execute_result"
    }
   ],
   "source": [
    "# We can now look at our cross_validation scores: We can see the Model 4 has the best perfomance.\n",
    "\n",
    "scores_df  = pd.DataFrame([scores1, scores2, scores3, scores4, scores5])\n",
    "scores_df.apply(np.mean, axis = 1)\n"
   ]
  }
 ],
 "metadata": {
  "kernelspec": {
   "display_name": "Python 3",
   "language": "python",
   "name": "python3"
  },
  "language_info": {
   "codemirror_mode": {
    "name": "ipython",
    "version": 3
   },
   "file_extension": ".py",
   "mimetype": "text/x-python",
   "name": "python",
   "nbconvert_exporter": "python",
   "pygments_lexer": "ipython3",
   "version": "3.7.7"
  }
 },
 "nbformat": 4,
 "nbformat_minor": 4
}
